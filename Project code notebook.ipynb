{
 "cells": [
  {
   "cell_type": "code",
   "execution_count": 1,
   "id": "01e3dd11",
   "metadata": {},
   "outputs": [],
   "source": [
    "# imports\n",
    "\n",
    "import pandas as pd\n",
    "import numpy as np\n",
    "from matplotlib import pyplot as plt\n",
    "import seaborn as sns\n",
    "from sklearn.model_selection import KFold\n",
    "from sklearn.preprocessing import MinMaxScaler, RobustScaler, StandardScaler\n",
    "from sklearn.model_selection import train_test_split\n",
    "\n",
    "\n",
    "from sklearn.svm import SVC\n",
    "from sklearn.ensemble import RandomForestClassifier\n",
    "from sklearn import tree\n",
    "from sklearn.linear_model import LogisticRegression\n",
    "from sklearn.neighbors import KNeighborsClassifier\n",
    "from xgboost import XGBClassifier\n",
    "from xgboost import plot_importance\n",
    "\n",
    "import optuna\n",
    "\n",
    "\n",
    "import warnings\n",
    "warnings.filterwarnings('ignore')"
   ]
  },
  {
   "cell_type": "code",
   "execution_count": 2,
   "id": "9b6f6dcc",
   "metadata": {},
   "outputs": [],
   "source": [
    "# Function Definitions:\n",
    "\n",
    "def print_accuracy(actual,predicted):\n",
    "    match=0\n",
    "    for i in range(0,len(actual)):\n",
    "        if actual[i]==predicted[i]:\n",
    "            match+=1\n",
    "    accuracy=match/len(actual)\n",
    "    print(\"matches= \",match,\"/\",len(actual),\" accuracy= \",round(accuracy,2))\n",
    "\n",
    "def print_accuracies(actual,predicted):\n",
    "    match=0\n",
    "    for i in range(0,len(actual)):\n",
    "        if actual[i]==predicted[i]:\n",
    "            match+=1\n",
    "    accuracy=match/len(actual)\n",
    "    return accuracy\n",
    "\n",
    "def train_and_evaluate(model):\n",
    "    kf = KFold(n_splits=5,shuffle=True,random_state=None)\n",
    "    i=1\n",
    "    train_accuracies=[]\n",
    "    test_accuracies=[]\n",
    "    for train_index, test_index in kf.split(feature_array):\n",
    "        X_train, X_test = feature_array[train_index], feature_array[test_index]\n",
    "        y_train, y_test = target_label[train_index], target_label[test_index]\n",
    "        \n",
    "        model.fit(X_train, y_train)\n",
    "        \n",
    "        train_predictions=model.predict(X_train)\n",
    "        test_predictions=model.predict(X_test)\n",
    "        \n",
    "        train_accuracy=print_accuracies(y_train,train_predictions)\n",
    "        train_accuracies.append(train_accuracy)\n",
    "        test_accuracy=print_accuracies(y_test,test_predictions)\n",
    "        test_accuracies.append(test_accuracy)\n",
    "        \n",
    "        print(\"\\nFold\",i,\": Train accuracy= \",round(train_accuracy,2),\" Test accuracy= \",round(test_accuracy,2))\n",
    "        i+=1\n",
    "    \n",
    "    print(\"\\nAvg train accuracy= \",round(np.array(train_accuracies).mean(),2))\n",
    "    print(\"Avg test accuracy= \",round(np.array(test_accuracies).mean(),2))\n",
    "\n",
    "def tnv(model):\n",
    "    kf = KFold(n_splits=5,shuffle=True,random_state=None)\n",
    "    i=1\n",
    "    train_accuracies=[]\n",
    "    test_accuracies=[]\n",
    "    for train_index, test_index in kf.split(feature_array):\n",
    "        X_train, X_test = feature_array[train_index], feature_array[test_index]\n",
    "        y_train, y_test = target_label[train_index], target_label[test_index]\n",
    "        \n",
    "        model.fit(X_train, y_train)\n",
    "        \n",
    "        train_predictions=model.predict(X_train)\n",
    "        test_predictions=model.predict(X_test)\n",
    "        \n",
    "        train_accuracy=print_accuracies(y_train,train_predictions)\n",
    "        train_accuracies.append(train_accuracy)\n",
    "        test_accuracy=print_accuracies(y_test,test_predictions)\n",
    "        test_accuracies.append(test_accuracy)\n",
    "        i+=1\n",
    "    \n",
    "    #return round(np.array(train_accuracies).mean(),2)\n",
    "    return round(np.array(test_accuracies).mean(),2)"
   ]
  },
  {
   "cell_type": "markdown",
   "id": "1436931e",
   "metadata": {},
   "source": [
    "# Data exploration and feature engineering"
   ]
  },
  {
   "cell_type": "markdown",
   "id": "1ec0e149",
   "metadata": {},
   "source": [
    "## Attributes\n",
    "Age: age of the patient [years]\n",
    "\n",
    "Sex: sex of the patient [M: Male, F: Female]\n",
    "\n",
    "ChestPainType: chest pain type [TA: Typical Angina, ATA: Atypical Angina, NAP: Non-Anginal Pain, ASY: Asymptomatic]\n",
    "\n",
    "RestingBP: resting blood pressure [mm Hg]\n",
    "\n",
    "Cholesterol: serum cholesterol [mm/dl]\n",
    "\n",
    "FastingBS: fasting blood sugar [1: if FastingBS > 120 mg/dl, 0: otherwise]\n",
    "\n",
    "RestingECG: resting electrocardiogram results [Normal: Normal, ST: having ST-T wave abnormality (T wave inversions and/or ST elevation or depression of > 0.05 mV), LVH: showing probable or definite left ventricular hypertrophy by Estes' criteria]\n",
    "\n",
    "MaxHR: maximum heart rate achieved [Numeric value between 60 and 202]\n",
    "\n",
    "ExerciseAngina: exercise-induced angina [Y: Yes, N: No]\n",
    "\n",
    "Oldpeak: oldpeak = ST [Numeric value measured in depression]\n",
    "\n",
    "ST_Slope: the slope of the peak exercise ST segment [Up: upsloping, Flat: flat, Down: downsloping]\n",
    "\n",
    "HeartDisease: output class [1: heart disease, 0: Normal]"
   ]
  },
  {
   "cell_type": "code",
   "execution_count": 3,
   "id": "516e6407",
   "metadata": {},
   "outputs": [
    {
     "data": {
      "text/html": [
       "<div>\n",
       "<style scoped>\n",
       "    .dataframe tbody tr th:only-of-type {\n",
       "        vertical-align: middle;\n",
       "    }\n",
       "\n",
       "    .dataframe tbody tr th {\n",
       "        vertical-align: top;\n",
       "    }\n",
       "\n",
       "    .dataframe thead th {\n",
       "        text-align: right;\n",
       "    }\n",
       "</style>\n",
       "<table border=\"1\" class=\"dataframe\">\n",
       "  <thead>\n",
       "    <tr style=\"text-align: right;\">\n",
       "      <th></th>\n",
       "      <th>Age</th>\n",
       "      <th>Sex</th>\n",
       "      <th>ChestPainType</th>\n",
       "      <th>RestingBP</th>\n",
       "      <th>Cholesterol</th>\n",
       "      <th>FastingBS</th>\n",
       "      <th>RestingECG</th>\n",
       "      <th>MaxHR</th>\n",
       "      <th>ExerciseAngina</th>\n",
       "      <th>Oldpeak</th>\n",
       "      <th>ST_Slope</th>\n",
       "      <th>HeartDisease</th>\n",
       "    </tr>\n",
       "  </thead>\n",
       "  <tbody>\n",
       "    <tr>\n",
       "      <th>0</th>\n",
       "      <td>40</td>\n",
       "      <td>M</td>\n",
       "      <td>ATA</td>\n",
       "      <td>140</td>\n",
       "      <td>289</td>\n",
       "      <td>0</td>\n",
       "      <td>Normal</td>\n",
       "      <td>172</td>\n",
       "      <td>N</td>\n",
       "      <td>0.0</td>\n",
       "      <td>Up</td>\n",
       "      <td>0</td>\n",
       "    </tr>\n",
       "    <tr>\n",
       "      <th>1</th>\n",
       "      <td>49</td>\n",
       "      <td>F</td>\n",
       "      <td>NAP</td>\n",
       "      <td>160</td>\n",
       "      <td>180</td>\n",
       "      <td>0</td>\n",
       "      <td>Normal</td>\n",
       "      <td>156</td>\n",
       "      <td>N</td>\n",
       "      <td>1.0</td>\n",
       "      <td>Flat</td>\n",
       "      <td>1</td>\n",
       "    </tr>\n",
       "    <tr>\n",
       "      <th>2</th>\n",
       "      <td>37</td>\n",
       "      <td>M</td>\n",
       "      <td>ATA</td>\n",
       "      <td>130</td>\n",
       "      <td>283</td>\n",
       "      <td>0</td>\n",
       "      <td>ST</td>\n",
       "      <td>98</td>\n",
       "      <td>N</td>\n",
       "      <td>0.0</td>\n",
       "      <td>Up</td>\n",
       "      <td>0</td>\n",
       "    </tr>\n",
       "    <tr>\n",
       "      <th>3</th>\n",
       "      <td>48</td>\n",
       "      <td>F</td>\n",
       "      <td>ASY</td>\n",
       "      <td>138</td>\n",
       "      <td>214</td>\n",
       "      <td>0</td>\n",
       "      <td>Normal</td>\n",
       "      <td>108</td>\n",
       "      <td>Y</td>\n",
       "      <td>1.5</td>\n",
       "      <td>Flat</td>\n",
       "      <td>1</td>\n",
       "    </tr>\n",
       "    <tr>\n",
       "      <th>4</th>\n",
       "      <td>54</td>\n",
       "      <td>M</td>\n",
       "      <td>NAP</td>\n",
       "      <td>150</td>\n",
       "      <td>195</td>\n",
       "      <td>0</td>\n",
       "      <td>Normal</td>\n",
       "      <td>122</td>\n",
       "      <td>N</td>\n",
       "      <td>0.0</td>\n",
       "      <td>Up</td>\n",
       "      <td>0</td>\n",
       "    </tr>\n",
       "  </tbody>\n",
       "</table>\n",
       "</div>"
      ],
      "text/plain": [
       "   Age Sex ChestPainType  RestingBP  Cholesterol  FastingBS RestingECG  MaxHR  \\\n",
       "0   40   M           ATA        140          289          0     Normal    172   \n",
       "1   49   F           NAP        160          180          0     Normal    156   \n",
       "2   37   M           ATA        130          283          0         ST     98   \n",
       "3   48   F           ASY        138          214          0     Normal    108   \n",
       "4   54   M           NAP        150          195          0     Normal    122   \n",
       "\n",
       "  ExerciseAngina  Oldpeak ST_Slope  HeartDisease  \n",
       "0              N      0.0       Up             0  \n",
       "1              N      1.0     Flat             1  \n",
       "2              N      0.0       Up             0  \n",
       "3              Y      1.5     Flat             1  \n",
       "4              N      0.0       Up             0  "
      ]
     },
     "execution_count": 3,
     "metadata": {},
     "output_type": "execute_result"
    }
   ],
   "source": [
    "dataframe=pd.read_csv(\"heart.csv\")\n",
    "dataframe.head()"
   ]
  },
  {
   "cell_type": "code",
   "execution_count": 4,
   "id": "4a270ebe",
   "metadata": {},
   "outputs": [
    {
     "data": {
      "text/plain": [
       "(918, 12)"
      ]
     },
     "execution_count": 4,
     "metadata": {},
     "output_type": "execute_result"
    }
   ],
   "source": [
    "dataframe.shape"
   ]
  },
  {
   "cell_type": "code",
   "execution_count": 5,
   "id": "d5adaa4f",
   "metadata": {},
   "outputs": [
    {
     "data": {
      "text/plain": [
       "1    508\n",
       "0    410\n",
       "Name: HeartDisease, dtype: int64"
      ]
     },
     "execution_count": 5,
     "metadata": {},
     "output_type": "execute_result"
    }
   ],
   "source": [
    "# checking the ratios for categorical features.\n",
    "dataframe['HeartDisease'].value_counts()     # there is no issue of class imbalance"
   ]
  },
  {
   "cell_type": "code",
   "execution_count": 6,
   "id": "ca9a96f9",
   "metadata": {},
   "outputs": [
    {
     "data": {
      "text/plain": [
       "M    725\n",
       "F    193\n",
       "Name: Sex, dtype: int64"
      ]
     },
     "execution_count": 6,
     "metadata": {},
     "output_type": "execute_result"
    }
   ],
   "source": [
    "dataframe['Sex'].value_counts()"
   ]
  },
  {
   "cell_type": "code",
   "execution_count": 7,
   "id": "ed5566c6",
   "metadata": {},
   "outputs": [
    {
     "data": {
      "text/plain": [
       "ASY    496\n",
       "NAP    203\n",
       "ATA    173\n",
       "TA      46\n",
       "Name: ChestPainType, dtype: int64"
      ]
     },
     "execution_count": 7,
     "metadata": {},
     "output_type": "execute_result"
    }
   ],
   "source": [
    "dataframe['ChestPainType'].value_counts()"
   ]
  },
  {
   "cell_type": "code",
   "execution_count": 8,
   "id": "db9f9d0d",
   "metadata": {},
   "outputs": [
    {
     "data": {
      "text/plain": [
       "Flat    460\n",
       "Up      395\n",
       "Down     63\n",
       "Name: ST_Slope, dtype: int64"
      ]
     },
     "execution_count": 8,
     "metadata": {},
     "output_type": "execute_result"
    }
   ],
   "source": [
    "dataframe['ST_Slope'].value_counts()"
   ]
  },
  {
   "cell_type": "code",
   "execution_count": 9,
   "id": "340ba0d4",
   "metadata": {},
   "outputs": [
    {
     "data": {
      "text/plain": [
       "120    132\n",
       "130    118\n",
       "140    107\n",
       "110     58\n",
       "150     55\n",
       "      ... \n",
       "113      1\n",
       "117      1\n",
       "127      1\n",
       "129      1\n",
       "0        1\n",
       "Name: RestingBP, Length: 67, dtype: int64"
      ]
     },
     "execution_count": 9,
     "metadata": {},
     "output_type": "execute_result"
    }
   ],
   "source": [
    "dataframe['RestingBP'].value_counts()"
   ]
  },
  {
   "cell_type": "code",
   "execution_count": 10,
   "id": "a8721f94",
   "metadata": {},
   "outputs": [
    {
     "data": {
      "text/plain": [
       "N    547\n",
       "Y    371\n",
       "Name: ExerciseAngina, dtype: int64"
      ]
     },
     "execution_count": 10,
     "metadata": {},
     "output_type": "execute_result"
    }
   ],
   "source": [
    "dataframe['ExerciseAngina'].value_counts()"
   ]
  },
  {
   "cell_type": "code",
   "execution_count": 11,
   "id": "59c0a352",
   "metadata": {},
   "outputs": [
    {
     "name": "stdout",
     "output_type": "stream",
     "text": [
      "1    458\n",
      "0    267\n",
      "Name: HeartDisease, dtype: int64\n",
      "0    143\n",
      "1     50\n",
      "Name: HeartDisease, dtype: int64\n"
     ]
    }
   ],
   "source": [
    "print(dataframe.loc[dataframe['Sex'] == 'M']['HeartDisease'].value_counts())\n",
    "print(dataframe.loc[dataframe['Sex'] == 'F']['HeartDisease'].value_counts())"
   ]
  },
  {
   "cell_type": "code",
   "execution_count": 13,
   "id": "cbd95d1f",
   "metadata": {},
   "outputs": [
    {
     "data": {
      "image/png": "[encoded data removed]",
      "text/plain": [
       "<Figure size 1008x504 with 1 Axes>"
      ]
     },
     "metadata": {},
     "output_type": "display_data"
    }
   ],
   "source": [
    "# plot the distributions of various attributes\n",
    "\n",
    "distribution=dataframe['Age'].value_counts()\n",
    "x = distribution.index\n",
    "y = distribution.values\n",
    "plt.figure(figsize=(14,7))\n",
    "plt.bar(x,y)\n",
    "\n",
    "#plt.savefig(\"plot Age before log.jpg\")\n",
    "plt.show()"
   ]
  },
  {
   "cell_type": "code",
   "execution_count": 12,
   "id": "551b0a14",
   "metadata": {},
   "outputs": [
    {
     "data": {
      "text/plain": [
       "<AxesSubplot:xlabel='Oldpeak', ylabel='Density'>"
      ]
     },
     "execution_count": 12,
     "metadata": {},
     "output_type": "execute_result"
    },
    {
     "data": {
      "image/png": "[encoded data removed]",
      "text/plain": [
       "<Figure size 576x360 with 1 Axes>"
      ]
     },
     "metadata": {},
     "output_type": "display_data"
    }
   ],
   "source": [
    "# using seaborn plots visualize properties of attributes.\n",
    "\n",
    "sns.set(rc={'figure.figsize':(8,5)})\n",
    "#sns.boxplot(test_df['Oldpeak'])\n",
    "#plt.hist(dataframe['Age'])\n",
    "sns.distplot(dataframe['Oldpeak'])"
   ]
  },
  {
   "cell_type": "code",
   "execution_count": 14,
   "id": "f1c254f3",
   "metadata": {},
   "outputs": [
    {
     "data": {
      "text/plain": [
       "<AxesSubplot:xlabel='Oldpeak'>"
      ]
     },
     "execution_count": 14,
     "metadata": {},
     "output_type": "execute_result"
    },
    {
     "data": {
      "image/png": "[encoded data removed]",
      "text/plain": [
       "<Figure size 576x360 with 1 Axes>"
      ]
     },
     "metadata": {},
     "output_type": "display_data"
    }
   ],
   "source": [
    "sns.boxplot(dataframe['Oldpeak'])"
   ]
  },
  {
   "cell_type": "code",
   "execution_count": 15,
   "id": "7a1236b1",
   "metadata": {},
   "outputs": [
    {
     "data": {
      "image/png": "[encoded data removed]",
      "text/plain": [
       "<Figure size 720x576 with 1 Axes>"
      ]
     },
     "metadata": {},
     "output_type": "display_data"
    }
   ],
   "source": [
    "# Plot the train and test accuracies against the value of hyperparameters.\n",
    "\n",
    "x=[2,3,4,4.25,5,6,7,8,10,12,14,20]\n",
    "y=[81,85,87,87,88,90,93,94,97,99,100,100]\n",
    "z=[81,83,84,85,84,84,83,82,81,81,79,79]\n",
    "plt.figure(figsize=(10,8))\n",
    "plt.plot(x,y)\n",
    "plt.plot(x,z)\n",
    "plt.xlabel(\"Value of max_depth parameter\")\n",
    "plt.ylabel(\"Accuracy\")\n",
    "plt.legend(['Train accuracy','Test accuracy'])\n",
    "#plt.savefig(\"accuracy vs Max_depth in DT.jpg\")\n",
    "plt.show()"
   ]
  },
  {
   "cell_type": "markdown",
   "id": "d803c635",
   "metadata": {},
   "source": [
    "# Creating One Hot Encodings for Categorical features"
   ]
  },
  {
   "cell_type": "code",
   "execution_count": 16,
   "id": "682826f0",
   "metadata": {},
   "outputs": [
    {
     "data": {
      "text/plain": [
       "(918, 20)"
      ]
     },
     "execution_count": 16,
     "metadata": {},
     "output_type": "execute_result"
    }
   ],
   "source": [
    "# creating one hot dummies for categorical features:\n",
    "\n",
    "features = ['Age','Sex','ChestPainType','RestingBP','Cholesterol','FastingBS','RestingECG','MaxHR','ExerciseAngina','Oldpeak','ST_Slope']\n",
    "dataframe_new= pd.get_dummies(dataframe[features])\n",
    "dataframe_new.shape"
   ]
  },
  {
   "cell_type": "markdown",
   "id": "11e95f59",
   "metadata": {},
   "source": [
    "# Feature Engineering"
   ]
  },
  {
   "cell_type": "code",
   "execution_count": 17,
   "id": "567995b5",
   "metadata": {},
   "outputs": [
    {
     "data": {
      "text/plain": [
       "Age               0\n",
       "Sex               0\n",
       "ChestPainType     0\n",
       "RestingBP         0\n",
       "Cholesterol       0\n",
       "FastingBS         0\n",
       "RestingECG        0\n",
       "MaxHR             0\n",
       "ExerciseAngina    0\n",
       "Oldpeak           0\n",
       "ST_Slope          0\n",
       "HeartDisease      0\n",
       "dtype: int64"
      ]
     },
     "execution_count": 17,
     "metadata": {},
     "output_type": "execute_result"
    }
   ],
   "source": [
    "# Checking null values: Imputation\n",
    "dataframe.isnull().sum()"
   ]
  },
  {
   "cell_type": "code",
   "execution_count": 18,
   "id": "3fc7596b",
   "metadata": {},
   "outputs": [
    {
     "data": {
      "text/html": [
       "<div>\n",
       "<style scoped>\n",
       "    .dataframe tbody tr th:only-of-type {\n",
       "        vertical-align: middle;\n",
       "    }\n",
       "\n",
       "    .dataframe tbody tr th {\n",
       "        vertical-align: top;\n",
       "    }\n",
       "\n",
       "    .dataframe thead th {\n",
       "        text-align: right;\n",
       "    }\n",
       "</style>\n",
       "<table border=\"1\" class=\"dataframe\">\n",
       "  <thead>\n",
       "    <tr style=\"text-align: right;\">\n",
       "      <th></th>\n",
       "      <th>RestingBP</th>\n",
       "      <th>Cholesterol</th>\n",
       "      <th>FastingBS</th>\n",
       "      <th>MaxHR</th>\n",
       "      <th>Oldpeak</th>\n",
       "      <th>Sex_F</th>\n",
       "      <th>Sex_M</th>\n",
       "      <th>ChestPainType_ASY</th>\n",
       "      <th>ChestPainType_ATA</th>\n",
       "      <th>ChestPainType_NAP</th>\n",
       "      <th>ChestPainType_TA</th>\n",
       "      <th>RestingECG_LVH</th>\n",
       "      <th>RestingECG_Normal</th>\n",
       "      <th>RestingECG_ST</th>\n",
       "      <th>ExerciseAngina_N</th>\n",
       "      <th>ExerciseAngina_Y</th>\n",
       "      <th>ST_Slope_Down</th>\n",
       "      <th>ST_Slope_Flat</th>\n",
       "      <th>ST_Slope_Up</th>\n",
       "      <th>Age_log</th>\n",
       "    </tr>\n",
       "  </thead>\n",
       "  <tbody>\n",
       "    <tr>\n",
       "      <th>0</th>\n",
       "      <td>140</td>\n",
       "      <td>289</td>\n",
       "      <td>0</td>\n",
       "      <td>172</td>\n",
       "      <td>0.0</td>\n",
       "      <td>0</td>\n",
       "      <td>1</td>\n",
       "      <td>0</td>\n",
       "      <td>1</td>\n",
       "      <td>0</td>\n",
       "      <td>0</td>\n",
       "      <td>0</td>\n",
       "      <td>1</td>\n",
       "      <td>0</td>\n",
       "      <td>1</td>\n",
       "      <td>0</td>\n",
       "      <td>0</td>\n",
       "      <td>0</td>\n",
       "      <td>1</td>\n",
       "      <td>3.688879</td>\n",
       "    </tr>\n",
       "    <tr>\n",
       "      <th>1</th>\n",
       "      <td>160</td>\n",
       "      <td>180</td>\n",
       "      <td>0</td>\n",
       "      <td>156</td>\n",
       "      <td>1.0</td>\n",
       "      <td>1</td>\n",
       "      <td>0</td>\n",
       "      <td>0</td>\n",
       "      <td>0</td>\n",
       "      <td>1</td>\n",
       "      <td>0</td>\n",
       "      <td>0</td>\n",
       "      <td>1</td>\n",
       "      <td>0</td>\n",
       "      <td>1</td>\n",
       "      <td>0</td>\n",
       "      <td>0</td>\n",
       "      <td>1</td>\n",
       "      <td>0</td>\n",
       "      <td>3.891820</td>\n",
       "    </tr>\n",
       "    <tr>\n",
       "      <th>2</th>\n",
       "      <td>130</td>\n",
       "      <td>283</td>\n",
       "      <td>0</td>\n",
       "      <td>98</td>\n",
       "      <td>0.0</td>\n",
       "      <td>0</td>\n",
       "      <td>1</td>\n",
       "      <td>0</td>\n",
       "      <td>1</td>\n",
       "      <td>0</td>\n",
       "      <td>0</td>\n",
       "      <td>0</td>\n",
       "      <td>0</td>\n",
       "      <td>1</td>\n",
       "      <td>1</td>\n",
       "      <td>0</td>\n",
       "      <td>0</td>\n",
       "      <td>0</td>\n",
       "      <td>1</td>\n",
       "      <td>3.610918</td>\n",
       "    </tr>\n",
       "    <tr>\n",
       "      <th>3</th>\n",
       "      <td>138</td>\n",
       "      <td>214</td>\n",
       "      <td>0</td>\n",
       "      <td>108</td>\n",
       "      <td>1.5</td>\n",
       "      <td>1</td>\n",
       "      <td>0</td>\n",
       "      <td>1</td>\n",
       "      <td>0</td>\n",
       "      <td>0</td>\n",
       "      <td>0</td>\n",
       "      <td>0</td>\n",
       "      <td>1</td>\n",
       "      <td>0</td>\n",
       "      <td>0</td>\n",
       "      <td>1</td>\n",
       "      <td>0</td>\n",
       "      <td>1</td>\n",
       "      <td>0</td>\n",
       "      <td>3.871201</td>\n",
       "    </tr>\n",
       "    <tr>\n",
       "      <th>4</th>\n",
       "      <td>150</td>\n",
       "      <td>195</td>\n",
       "      <td>0</td>\n",
       "      <td>122</td>\n",
       "      <td>0.0</td>\n",
       "      <td>0</td>\n",
       "      <td>1</td>\n",
       "      <td>0</td>\n",
       "      <td>0</td>\n",
       "      <td>1</td>\n",
       "      <td>0</td>\n",
       "      <td>0</td>\n",
       "      <td>1</td>\n",
       "      <td>0</td>\n",
       "      <td>1</td>\n",
       "      <td>0</td>\n",
       "      <td>0</td>\n",
       "      <td>0</td>\n",
       "      <td>1</td>\n",
       "      <td>3.988984</td>\n",
       "    </tr>\n",
       "  </tbody>\n",
       "</table>\n",
       "</div>"
      ],
      "text/plain": [
       "   RestingBP  Cholesterol  FastingBS  MaxHR  Oldpeak  Sex_F  Sex_M  \\\n",
       "0        140          289          0    172      0.0      0      1   \n",
       "1        160          180          0    156      1.0      1      0   \n",
       "2        130          283          0     98      0.0      0      1   \n",
       "3        138          214          0    108      1.5      1      0   \n",
       "4        150          195          0    122      0.0      0      1   \n",
       "\n",
       "   ChestPainType_ASY  ChestPainType_ATA  ChestPainType_NAP  ChestPainType_TA  \\\n",
       "0                  0                  1                  0                 0   \n",
       "1                  0                  0                  1                 0   \n",
       "2                  0                  1                  0                 0   \n",
       "3                  1                  0                  0                 0   \n",
       "4                  0                  0                  1                 0   \n",
       "\n",
       "   RestingECG_LVH  RestingECG_Normal  RestingECG_ST  ExerciseAngina_N  \\\n",
       "0               0                  1              0                 1   \n",
       "1               0                  1              0                 1   \n",
       "2               0                  0              1                 1   \n",
       "3               0                  1              0                 0   \n",
       "4               0                  1              0                 1   \n",
       "\n",
       "   ExerciseAngina_Y  ST_Slope_Down  ST_Slope_Flat  ST_Slope_Up   Age_log  \n",
       "0                 0              0              0            1  3.688879  \n",
       "1                 0              0              1            0  3.891820  \n",
       "2                 0              0              0            1  3.610918  \n",
       "3                 1              0              1            0  3.871201  \n",
       "4                 0              0              0            1  3.988984  "
      ]
     },
     "execution_count": 18,
     "metadata": {},
     "output_type": "execute_result"
    }
   ],
   "source": [
    "# log transform   ## DONT RUN THIS CELL\n",
    "\n",
    "df_trans=dataframe_new.copy()\n",
    "df_trans['Age_log'] = np.log(df_trans['Age'])\n",
    "df_trans.drop('Age', axis=1, inplace=True)\n",
    "df_trans.head()"
   ]
  },
  {
   "cell_type": "code",
   "execution_count": 19,
   "id": "51fc1b21",
   "metadata": {},
   "outputs": [
    {
     "data": {
      "text/plain": [
       "(918, 20)"
      ]
     },
     "execution_count": 19,
     "metadata": {},
     "output_type": "execute_result"
    }
   ],
   "source": [
    "# Removing outliers\n",
    "\n",
    "test_df=dataframe_new.copy()\n",
    "test_df['Cholesterol'] = test_df['Cholesterol'].mask(test_df['Cholesterol'] < 1, 237)\n",
    "test_df['Cholesterol'] = test_df['Cholesterol'].mask(test_df['Cholesterol'] > 410, 237)\n",
    "test_df['RestingBP'] = test_df['RestingBP'].mask(test_df['RestingBP'] < 85, 130)\n",
    "test_df['RestingBP'] = test_df['RestingBP'].mask(test_df['RestingBP'] > 175, 130)\n",
    "test_df['Oldpeak'] = test_df['Oldpeak'].mask(test_df['Oldpeak'] < -2, 0.6)\n",
    "test_df['Oldpeak'] = test_df['Oldpeak'].mask(test_df['Oldpeak'] > 4, 0.6)\n",
    "test_df.shape"
   ]
  },
  {
   "cell_type": "code",
   "execution_count": 20,
   "id": "376240da",
   "metadata": {},
   "outputs": [
    {
     "name": "stdout",
     "output_type": "stream",
     "text": [
      "[0.42857143 0.82926829 0.29320988 0.         0.67605634 0.5\n",
      " 1.         0.         0.         0.         1.         0.\n",
      " 0.         1.         0.         1.         0.         0.\n",
      " 1.         0.        ]\n"
     ]
    }
   ],
   "source": [
    "# Feature Scaling  ## RUN THIS CELL ONLY FOR KNN CLASSIFIER.\n",
    "\n",
    "test_df2=test_df.copy()\n",
    "scaler = MinMaxScaler()\n",
    "scaled = scaler.fit_transform(test_df2)\n",
    "print(scaled[1])\n",
    "feature_array=scaled"
   ]
  },
  {
   "cell_type": "code",
   "execution_count": 21,
   "id": "3b17bf8a",
   "metadata": {},
   "outputs": [
    {
     "data": {
      "text/plain": [
       "(918, 9)"
      ]
     },
     "execution_count": 21,
     "metadata": {},
     "output_type": "execute_result"
    }
   ],
   "source": [
    "# Removing less important features:  # DONT RUN THIS CELL ALSO\n",
    "test_df1=test_df.copy()\n",
    "flist=['Sex_F','RestingBP','Sex_M','ChestPainType_ATA','FastingBS','ChestPainType_NAP','RestingECG_LVH','ST_Slope_Down','RestingECG_Normal','ChestPainType_TA','RestingECG_ST']\n",
    "test_df1.drop(flist, axis=1, inplace=True)\n",
    "test_df1.shape"
   ]
  },
  {
   "cell_type": "markdown",
   "id": "b12368a4",
   "metadata": {},
   "source": [
    "# Creating Feature and Target arrays."
   ]
  },
  {
   "cell_type": "code",
   "execution_count": 22,
   "id": "21032190",
   "metadata": {},
   "outputs": [
    {
     "data": {
      "text/plain": [
       "(918, 20)"
      ]
     },
     "execution_count": 22,
     "metadata": {},
     "output_type": "execute_result"
    }
   ],
   "source": [
    "# Creating feature_array\n",
    "feature_array = np.array(test_df)\n",
    "feature_array.shape"
   ]
  },
  {
   "cell_type": "code",
   "execution_count": 23,
   "id": "6eec0f96",
   "metadata": {},
   "outputs": [
    {
     "data": {
      "text/plain": [
       "(918, 1)"
      ]
     },
     "execution_count": 23,
     "metadata": {},
     "output_type": "execute_result"
    }
   ],
   "source": [
    "# Creating target array\n",
    "target_label=np.array(dataframe[['HeartDisease']])\n",
    "target_label.shape"
   ]
  },
  {
   "cell_type": "code",
   "execution_count": 24,
   "id": "3f31a939",
   "metadata": {},
   "outputs": [],
   "source": [
    "# train-test set split\n",
    "\n",
    "train_feature_array, test_feature_array, train_labels, test_labels = train_test_split(feature_array, target_label, test_size = 0.25, shuffle=True)"
   ]
  },
  {
   "cell_type": "markdown",
   "id": "8240defe",
   "metadata": {},
   "source": [
    "# Classification using a Support Vector Machine"
   ]
  },
  {
   "cell_type": "code",
   "execution_count": 25,
   "id": "abfe4038",
   "metadata": {},
   "outputs": [
    {
     "data": {
      "text/plain": [
       "SVC(C=1, kernel='linear', random_state=42)"
      ]
     },
     "execution_count": 25,
     "metadata": {},
     "output_type": "execute_result"
    }
   ],
   "source": [
    "# clf = SVC(kernel='linear')   we can also try kernel=\"rbf\" \n",
    "clf = SVC(kernel='linear',C=1,random_state=42)    #clf = svm.SVC(kernel='linear', C=1, random_state=42)\n",
    "clf"
   ]
  },
  {
   "cell_type": "code",
   "execution_count": 26,
   "id": "0d5e4bf5",
   "metadata": {},
   "outputs": [
    {
     "name": "stdout",
     "output_type": "stream",
     "text": [
      "\n",
      "Fold 1 : Train accuracy=  0.86  Test accuracy=  0.9\n",
      "\n",
      "Fold 2 : Train accuracy=  0.86  Test accuracy=  0.88\n",
      "\n",
      "Fold 3 : Train accuracy=  0.89  Test accuracy=  0.83\n",
      "\n",
      "Fold 4 : Train accuracy=  0.87  Test accuracy=  0.83\n",
      "\n",
      "Fold 5 : Train accuracy=  0.87  Test accuracy=  0.86\n",
      "\n",
      "Avg train accuracy=  0.87\n",
      "Avg test accuracy=  0.86\n"
     ]
    }
   ],
   "source": [
    "# train and evaluate using 5 fold cross validation.\n",
    "train_and_evaluate(clf)"
   ]
  },
  {
   "cell_type": "code",
   "execution_count": 27,
   "id": "08cf51ba",
   "metadata": {},
   "outputs": [
    {
     "name": "stdout",
     "output_type": "stream",
     "text": [
      "Train: matches=  600 / 688  accuracy=  0.87\n",
      "Test: matches=  191 / 230  accuracy=  0.83\n"
     ]
    }
   ],
   "source": [
    "# train and test normally using 75:25 train-test split, without 5 fold cross validation.\n",
    "\n",
    "clf.fit(train_feature_array, train_labels)\n",
    "\n",
    "train_predictions=clf.predict(train_feature_array)\n",
    "test_predictions=clf.predict(test_feature_array)\n",
    "\n",
    "print(\"Train: \",end=\"\")\n",
    "print_accuracy(train_labels,train_predictions)\n",
    "print(\"Test: \",end=\"\")\n",
    "print_accuracy(test_labels,test_predictions)"
   ]
  },
  {
   "cell_type": "markdown",
   "id": "8311452a",
   "metadata": {},
   "source": [
    "# Using Random Forest Classifier"
   ]
  },
  {
   "cell_type": "code",
   "execution_count": 28,
   "id": "aacdeaa4",
   "metadata": {},
   "outputs": [
    {
     "data": {
      "text/plain": [
       "RandomForestClassifier(max_depth=25, random_state=1)"
      ]
     },
     "execution_count": 28,
     "metadata": {},
     "output_type": "execute_result"
    }
   ],
   "source": [
    "# rf_clf = RandomForestClassifier(n_estimators=100, max_depth=5, random_state=5)\n",
    "rf_clf = RandomForestClassifier(n_estimators=100, max_depth=25, random_state=1)  # 39,8.5\n",
    "rf_clf"
   ]
  },
  {
   "cell_type": "code",
   "execution_count": 29,
   "id": "91949310",
   "metadata": {},
   "outputs": [
    {
     "name": "stdout",
     "output_type": "stream",
     "text": [
      "\n",
      "Fold 1 : Train accuracy=  1.0  Test accuracy=  0.89\n",
      "\n",
      "Fold 2 : Train accuracy=  1.0  Test accuracy=  0.88\n",
      "\n",
      "Fold 3 : Train accuracy=  1.0  Test accuracy=  0.84\n",
      "\n",
      "Fold 4 : Train accuracy=  1.0  Test accuracy=  0.85\n",
      "\n",
      "Fold 5 : Train accuracy=  1.0  Test accuracy=  0.89\n",
      "\n",
      "Avg train accuracy=  1.0\n",
      "Avg test accuracy=  0.87\n"
     ]
    }
   ],
   "source": [
    "# train and evaluate using 5 fold cross validation.\n",
    "train_and_evaluate(rf_clf)"
   ]
  },
  {
   "cell_type": "code",
   "execution_count": 30,
   "id": "402cba0d",
   "metadata": {},
   "outputs": [
    {
     "name": "stdout",
     "output_type": "stream",
     "text": [
      "Train: matches=  688 / 688  accuracy=  1.0\n",
      "Test: matches=  198 / 230  accuracy=  0.86\n"
     ]
    }
   ],
   "source": [
    "# train and test normally using 75:25 train-test split, without 5 fold cross validation.\n",
    "\n",
    "rf_clf.fit(train_feature_array, train_labels)\n",
    "\n",
    "train_predictions=rf_clf.predict(train_feature_array)\n",
    "test_predictions=rf_clf.predict(test_feature_array)\n",
    "\n",
    "print(\"Train: \",end=\"\")\n",
    "print_accuracy(train_labels,train_predictions)\n",
    "print(\"Test: \",end=\"\")\n",
    "print_accuracy(test_labels,test_predictions)"
   ]
  },
  {
   "cell_type": "code",
   "execution_count": 31,
   "id": "9fd1d07f",
   "metadata": {},
   "outputs": [
    {
     "data": {
      "text/plain": [
       "array([[1.  , 0.  ],\n",
       "       [0.58, 0.42],\n",
       "       [0.3 , 0.7 ],\n",
       "       [0.03, 0.97],\n",
       "       [0.33, 0.67],\n",
       "       [0.7 , 0.3 ],\n",
       "       [0.05, 0.95],\n",
       "       [0.03, 0.97],\n",
       "       [0.43, 0.57],\n",
       "       [0.51, 0.49]])"
      ]
     },
     "execution_count": 31,
     "metadata": {},
     "output_type": "execute_result"
    }
   ],
   "source": [
    "# Printing the probabilities of the made classification.\n",
    "\n",
    "rf_clf.predict_proba(test_feature_array)[:10]"
   ]
  },
  {
   "cell_type": "markdown",
   "id": "756b62b7",
   "metadata": {},
   "source": [
    "# Using Decision Tree Classifier"
   ]
  },
  {
   "cell_type": "code",
   "execution_count": 32,
   "id": "a9d4c386",
   "metadata": {},
   "outputs": [
    {
     "data": {
      "text/plain": [
       "DecisionTreeClassifier(max_depth=4.25, splitter='random')"
      ]
     },
     "execution_count": 32,
     "metadata": {},
     "output_type": "execute_result"
    }
   ],
   "source": [
    "dt_clf=tree.DecisionTreeClassifier(max_depth=4.25,random_state=None,splitter='random')  #max_depth=4.25\n",
    "dt_clf"
   ]
  },
  {
   "cell_type": "code",
   "execution_count": 33,
   "id": "1b53197d",
   "metadata": {},
   "outputs": [
    {
     "name": "stdout",
     "output_type": "stream",
     "text": [
      "\n",
      "Fold 1 : Train accuracy=  0.87  Test accuracy=  0.87\n",
      "\n",
      "Fold 2 : Train accuracy=  0.87  Test accuracy=  0.85\n",
      "\n",
      "Fold 3 : Train accuracy=  0.87  Test accuracy=  0.81\n",
      "\n",
      "Fold 4 : Train accuracy=  0.87  Test accuracy=  0.84\n",
      "\n",
      "Fold 5 : Train accuracy=  0.86  Test accuracy=  0.85\n",
      "\n",
      "Avg train accuracy=  0.87\n",
      "Avg test accuracy=  0.84\n"
     ]
    }
   ],
   "source": [
    "# train and evaluate using 5 fold cross validation.\n",
    "train_and_evaluate(dt_clf)"
   ]
  },
  {
   "cell_type": "code",
   "execution_count": 34,
   "id": "9f57c153",
   "metadata": {},
   "outputs": [
    {
     "name": "stdout",
     "output_type": "stream",
     "text": [
      "Train: matches=  596 / 688  accuracy=  0.87\n",
      "Test: matches=  187 / 230  accuracy=  0.81\n"
     ]
    }
   ],
   "source": [
    "# train and test normally using 75:25 train-test split, without 5 fold cross validation.\n",
    "\n",
    "dt_clf.fit(train_feature_array, train_labels)\n",
    "\n",
    "train_predictions=dt_clf.predict(train_feature_array)\n",
    "test_predictions=dt_clf.predict(test_feature_array)\n",
    "\n",
    "print(\"Train: \",end=\"\")\n",
    "print_accuracy(train_labels,train_predictions)\n",
    "print(\"Test: \",end=\"\")\n",
    "print_accuracy(test_labels,test_predictions)"
   ]
  },
  {
   "cell_type": "code",
   "execution_count": 35,
   "id": "7c29dbce",
   "metadata": {},
   "outputs": [
    {
     "data": {
      "image/svg+xml": [
       "<?xml version=\"1.0\" encoding=\"UTF-8\" standalone=\"no\"?>\r\n",
       "<!DOCTYPE svg PUBLIC \"-//W3C//DTD SVG 1.1//EN\"\r\n",
       " \"http://www.w3.org/Graphics/SVG/1.1/DTD/svg11.dtd\">\r\n",
       "<!-- Generated by graphviz version 2.38.0 (20140413.2041)\r\n",
       " -->\r\n",
       "<!-- Title: Tree Pages: 1 -->\r\n",
       "<svg width=\"1962pt\" height=\"552pt\"\r\n",
       " viewBox=\"0.00 0.00 1962.00 552.00\" xmlns=\"http://www.w3.org/2000/svg\" xmlns:xlink=\"http://www.w3.org/1999/xlink\">\r\n",
       "<g id=\"graph0\" class=\"graph\" transform=\"scale(1 1) rotate(0) translate(4 548)\">\r\n",
       "<title>Tree</title>\r\n",
       "<polygon fill=\"white\" stroke=\"none\" points=\"-4,4 -4,-548 1958,-548 1958,4 -4,4\"/>\r\n",
       "<!-- 0 -->\r\n",
       "<g id=\"node1\" class=\"node\"><title>0</title>\r\n",
       "<path fill=\"#e0f0fb\" stroke=\"black\" d=\"M1040,-544C1040,-544 905,-544 905,-544 899,-544 893,-538 893,-532 893,-532 893,-473 893,-473 893,-467 899,-461 905,-461 905,-461 1040,-461 1040,-461 1046,-461 1052,-467 1052,-473 1052,-473 1052,-532 1052,-532 1052,-538 1046,-544 1040,-544\"/>\r\n",
       "<text text-anchor=\"start\" x=\"901\" y=\"-528.8\" font-family=\"Helvetica,sans-Serif\" font-size=\"14.00\">ST_Slope_Up ≤ 0.241</text>\r\n",
       "<text text-anchor=\"start\" x=\"935\" y=\"-513.8\" font-family=\"Helvetica,sans-Serif\" font-size=\"14.00\">gini = 0.496</text>\r\n",
       "<text text-anchor=\"start\" x=\"925\" y=\"-498.8\" font-family=\"Helvetica,sans-Serif\" font-size=\"14.00\">samples = 688</text>\r\n",
       "<text text-anchor=\"start\" x=\"915.5\" y=\"-483.8\" font-family=\"Helvetica,sans-Serif\" font-size=\"14.00\">value = [315, 373]</text>\r\n",
       "<text text-anchor=\"start\" x=\"943.5\" y=\"-468.8\" font-family=\"Helvetica,sans-Serif\" font-size=\"14.00\">class = 1</text>\r\n",
       "</g>\r\n",
       "<!-- 1 -->\r\n",
       "<g id=\"node2\" class=\"node\"><title>1</title>\r\n",
       "<path fill=\"#5fb0ea\" stroke=\"black\" d=\"M784.5,-425C784.5,-425 686.5,-425 686.5,-425 680.5,-425 674.5,-419 674.5,-413 674.5,-413 674.5,-354 674.5,-354 674.5,-348 680.5,-342 686.5,-342 686.5,-342 784.5,-342 784.5,-342 790.5,-342 796.5,-348 796.5,-354 796.5,-354 796.5,-413 796.5,-413 796.5,-419 790.5,-425 784.5,-425\"/>\r\n",
       "<text text-anchor=\"start\" x=\"687\" y=\"-409.8\" font-family=\"Helvetica,sans-Serif\" font-size=\"14.00\">Sex_M ≤ 0.913</text>\r\n",
       "<text text-anchor=\"start\" x=\"698\" y=\"-394.8\" font-family=\"Helvetica,sans-Serif\" font-size=\"14.00\">gini = 0.272</text>\r\n",
       "<text text-anchor=\"start\" x=\"688\" y=\"-379.8\" font-family=\"Helvetica,sans-Serif\" font-size=\"14.00\">samples = 376</text>\r\n",
       "<text text-anchor=\"start\" x=\"682.5\" y=\"-364.8\" font-family=\"Helvetica,sans-Serif\" font-size=\"14.00\">value = [61, 315]</text>\r\n",
       "<text text-anchor=\"start\" x=\"706.5\" y=\"-349.8\" font-family=\"Helvetica,sans-Serif\" font-size=\"14.00\">class = 1</text>\r\n",
       "</g>\r\n",
       "<!-- 0&#45;&gt;1 -->\r\n",
       "<g id=\"edge1\" class=\"edge\"><title>0&#45;&gt;1</title>\r\n",
       "<path fill=\"none\" stroke=\"black\" d=\"M892.923,-462.215C864.652,-448.259 833.056,-432.66 805.632,-419.122\"/>\r\n",
       "<polygon fill=\"black\" stroke=\"black\" points=\"807.018,-415.903 796.502,-414.615 803.92,-422.18 807.018,-415.903\"/>\r\n",
       "<text text-anchor=\"middle\" x=\"804.528\" y=\"-434.592\" font-family=\"Helvetica,sans-Serif\" font-size=\"14.00\">True</text>\r\n",
       "</g>\r\n",
       "<!-- 16 -->\r\n",
       "<g id=\"node17\" class=\"node\"><title>16</title>\r\n",
       "<path fill=\"#eb9e66\" stroke=\"black\" d=\"M1330,-425C1330,-425 1151,-425 1151,-425 1145,-425 1139,-419 1139,-413 1139,-413 1139,-354 1139,-354 1139,-348 1145,-342 1151,-342 1151,-342 1330,-342 1330,-342 1336,-342 1342,-348 1342,-354 1342,-354 1342,-413 1342,-413 1342,-419 1336,-425 1330,-425\"/>\r\n",
       "<text text-anchor=\"start\" x=\"1147\" y=\"-409.8\" font-family=\"Helvetica,sans-Serif\" font-size=\"14.00\">ChestPainType_ASY ≤ 0.747</text>\r\n",
       "<text text-anchor=\"start\" x=\"1203\" y=\"-394.8\" font-family=\"Helvetica,sans-Serif\" font-size=\"14.00\">gini = 0.303</text>\r\n",
       "<text text-anchor=\"start\" x=\"1193\" y=\"-379.8\" font-family=\"Helvetica,sans-Serif\" font-size=\"14.00\">samples = 312</text>\r\n",
       "<text text-anchor=\"start\" x=\"1187.5\" y=\"-364.8\" font-family=\"Helvetica,sans-Serif\" font-size=\"14.00\">value = [254, 58]</text>\r\n",
       "<text text-anchor=\"start\" x=\"1211.5\" y=\"-349.8\" font-family=\"Helvetica,sans-Serif\" font-size=\"14.00\">class = 0</text>\r\n",
       "</g>\r\n",
       "<!-- 0&#45;&gt;16 -->\r\n",
       "<g id=\"edge16\" class=\"edge\"><title>0&#45;&gt;16</title>\r\n",
       "<path fill=\"none\" stroke=\"black\" d=\"M1052.18,-466.713C1079.19,-454.921 1109.75,-441.582 1138.27,-429.132\"/>\r\n",
       "<polygon fill=\"black\" stroke=\"black\" points=\"1139.68,-432.333 1147.45,-425.125 1136.88,-425.918 1139.68,-432.333\"/>\r\n",
       "<text text-anchor=\"middle\" x=\"1138.32\" y=\"-444.699\" font-family=\"Helvetica,sans-Serif\" font-size=\"14.00\">False</text>\r\n",
       "</g>\r\n",
       "<!-- 2 -->\r\n",
       "<g id=\"node3\" class=\"node\"><title>2</title>\r\n",
       "<path fill=\"#e3f1fb\" stroke=\"black\" d=\"M467,-306C467,-306 288,-306 288,-306 282,-306 276,-300 276,-294 276,-294 276,-235 276,-235 276,-229 282,-223 288,-223 288,-223 467,-223 467,-223 473,-223 479,-229 479,-235 479,-235 479,-294 479,-294 479,-300 473,-306 467,-306\"/>\r\n",
       "<text text-anchor=\"start\" x=\"284\" y=\"-290.8\" font-family=\"Helvetica,sans-Serif\" font-size=\"14.00\">ChestPainType_ASY ≤ 0.546</text>\r\n",
       "<text text-anchor=\"start\" x=\"340\" y=\"-275.8\" font-family=\"Helvetica,sans-Serif\" font-size=\"14.00\">gini = 0.497</text>\r\n",
       "<text text-anchor=\"start\" x=\"334\" y=\"-260.8\" font-family=\"Helvetica,sans-Serif\" font-size=\"14.00\">samples = 52</text>\r\n",
       "<text text-anchor=\"start\" x=\"329\" y=\"-245.8\" font-family=\"Helvetica,sans-Serif\" font-size=\"14.00\">value = [24, 28]</text>\r\n",
       "<text text-anchor=\"start\" x=\"348.5\" y=\"-230.8\" font-family=\"Helvetica,sans-Serif\" font-size=\"14.00\">class = 1</text>\r\n",
       "</g>\r\n",
       "<!-- 1&#45;&gt;2 -->\r\n",
       "<g id=\"edge2\" class=\"edge\"><title>1&#45;&gt;2</title>\r\n",
       "<path fill=\"none\" stroke=\"black\" d=\"M674.364,-362.52C623.561,-345.917 549.956,-321.861 488.749,-301.858\"/>\r\n",
       "<polygon fill=\"black\" stroke=\"black\" points=\"489.63,-298.464 479.037,-298.684 487.455,-305.117 489.63,-298.464\"/>\r\n",
       "</g>\r\n",
       "<!-- 9 -->\r\n",
       "<g id=\"node10\" class=\"node\"><title>9</title>\r\n",
       "<path fill=\"#53aae8\" stroke=\"black\" d=\"M825,-306C825,-306 646,-306 646,-306 640,-306 634,-300 634,-294 634,-294 634,-235 634,-235 634,-229 640,-223 646,-223 646,-223 825,-223 825,-223 831,-223 837,-229 837,-235 837,-235 837,-294 837,-294 837,-300 831,-306 825,-306\"/>\r\n",
       "<text text-anchor=\"start\" x=\"642\" y=\"-290.8\" font-family=\"Helvetica,sans-Serif\" font-size=\"14.00\">ChestPainType_ASY ≤ 0.874</text>\r\n",
       "<text text-anchor=\"start\" x=\"698\" y=\"-275.8\" font-family=\"Helvetica,sans-Serif\" font-size=\"14.00\">gini = 0.202</text>\r\n",
       "<text text-anchor=\"start\" x=\"688\" y=\"-260.8\" font-family=\"Helvetica,sans-Serif\" font-size=\"14.00\">samples = 324</text>\r\n",
       "<text text-anchor=\"start\" x=\"682.5\" y=\"-245.8\" font-family=\"Helvetica,sans-Serif\" font-size=\"14.00\">value = [37, 287]</text>\r\n",
       "<text text-anchor=\"start\" x=\"706.5\" y=\"-230.8\" font-family=\"Helvetica,sans-Serif\" font-size=\"14.00\">class = 1</text>\r\n",
       "</g>\r\n",
       "<!-- 1&#45;&gt;9 -->\r\n",
       "<g id=\"edge9\" class=\"edge\"><title>1&#45;&gt;9</title>\r\n",
       "<path fill=\"none\" stroke=\"black\" d=\"M735.5,-341.907C735.5,-333.649 735.5,-324.864 735.5,-316.302\"/>\r\n",
       "<polygon fill=\"black\" stroke=\"black\" points=\"739,-316.021 735.5,-306.021 732,-316.021 739,-316.021\"/>\r\n",
       "</g>\r\n",
       "<!-- 3 -->\r\n",
       "<g id=\"node4\" class=\"node\"><title>3</title>\r\n",
       "<path fill=\"#efb083\" stroke=\"black\" d=\"M241.5,-187C241.5,-187 107.5,-187 107.5,-187 101.5,-187 95.5,-181 95.5,-175 95.5,-175 95.5,-116 95.5,-116 95.5,-110 101.5,-104 107.5,-104 107.5,-104 241.5,-104 241.5,-104 247.5,-104 253.5,-110 253.5,-116 253.5,-116 253.5,-175 253.5,-175 253.5,-181 247.5,-187 241.5,-187\"/>\r\n",
       "<text text-anchor=\"start\" x=\"103.5\" y=\"-171.8\" font-family=\"Helvetica,sans-Serif\" font-size=\"14.00\">Cholesterol ≤ 231.304</text>\r\n",
       "<text text-anchor=\"start\" x=\"137\" y=\"-156.8\" font-family=\"Helvetica,sans-Serif\" font-size=\"14.00\">gini = 0.397</text>\r\n",
       "<text text-anchor=\"start\" x=\"131\" y=\"-141.8\" font-family=\"Helvetica,sans-Serif\" font-size=\"14.00\">samples = 22</text>\r\n",
       "<text text-anchor=\"start\" x=\"130\" y=\"-126.8\" font-family=\"Helvetica,sans-Serif\" font-size=\"14.00\">value = [16, 6]</text>\r\n",
       "<text text-anchor=\"start\" x=\"145.5\" y=\"-111.8\" font-family=\"Helvetica,sans-Serif\" font-size=\"14.00\">class = 0</text>\r\n",
       "</g>\r\n",
       "<!-- 2&#45;&gt;3 -->\r\n",
       "<g id=\"edge3\" class=\"edge\"><title>2&#45;&gt;3</title>\r\n",
       "<path fill=\"none\" stroke=\"black\" d=\"M307.07,-222.907C289.907,-213.016 271.433,-202.368 253.885,-192.254\"/>\r\n",
       "<polygon fill=\"black\" stroke=\"black\" points=\"255.217,-188.982 244.805,-187.021 251.722,-195.047 255.217,-188.982\"/>\r\n",
       "</g>\r\n",
       "<!-- 6 -->\r\n",
       "<g id=\"node7\" class=\"node\"><title>6</title>\r\n",
       "<path fill=\"#81c1ee\" stroke=\"black\" d=\"M432.5,-187C432.5,-187 322.5,-187 322.5,-187 316.5,-187 310.5,-181 310.5,-175 310.5,-175 310.5,-116 310.5,-116 310.5,-110 316.5,-104 322.5,-104 322.5,-104 432.5,-104 432.5,-104 438.5,-104 444.5,-110 444.5,-116 444.5,-116 444.5,-175 444.5,-175 444.5,-181 438.5,-187 432.5,-187\"/>\r\n",
       "<text text-anchor=\"start\" x=\"318.5\" y=\"-171.8\" font-family=\"Helvetica,sans-Serif\" font-size=\"14.00\">FastingBS ≤ 0.086</text>\r\n",
       "<text text-anchor=\"start\" x=\"340\" y=\"-156.8\" font-family=\"Helvetica,sans-Serif\" font-size=\"14.00\">gini = 0.391</text>\r\n",
       "<text text-anchor=\"start\" x=\"334\" y=\"-141.8\" font-family=\"Helvetica,sans-Serif\" font-size=\"14.00\">samples = 30</text>\r\n",
       "<text text-anchor=\"start\" x=\"333\" y=\"-126.8\" font-family=\"Helvetica,sans-Serif\" font-size=\"14.00\">value = [8, 22]</text>\r\n",
       "<text text-anchor=\"start\" x=\"348.5\" y=\"-111.8\" font-family=\"Helvetica,sans-Serif\" font-size=\"14.00\">class = 1</text>\r\n",
       "</g>\r\n",
       "<!-- 2&#45;&gt;6 -->\r\n",
       "<g id=\"edge6\" class=\"edge\"><title>2&#45;&gt;6</title>\r\n",
       "<path fill=\"none\" stroke=\"black\" d=\"M377.5,-222.907C377.5,-214.649 377.5,-205.864 377.5,-197.302\"/>\r\n",
       "<polygon fill=\"black\" stroke=\"black\" points=\"381,-197.021 377.5,-187.021 374,-197.021 381,-197.021\"/>\r\n",
       "</g>\r\n",
       "<!-- 4 -->\r\n",
       "<g id=\"node5\" class=\"node\"><title>4</title>\r\n",
       "<path fill=\"#e58139\" stroke=\"black\" d=\"M93,-68C93,-68 12,-68 12,-68 6,-68 0,-62 0,-56 0,-56 0,-12 0,-12 0,-6 6,-0 12,-0 12,-0 93,-0 93,-0 99,-0 105,-6 105,-12 105,-12 105,-56 105,-56 105,-62 99,-68 93,-68\"/>\r\n",
       "<text text-anchor=\"start\" x=\"23.5\" y=\"-52.8\" font-family=\"Helvetica,sans-Serif\" font-size=\"14.00\">gini = 0.0</text>\r\n",
       "<text text-anchor=\"start\" x=\"9\" y=\"-37.8\" font-family=\"Helvetica,sans-Serif\" font-size=\"14.00\">samples = 10</text>\r\n",
       "<text text-anchor=\"start\" x=\"8\" y=\"-22.8\" font-family=\"Helvetica,sans-Serif\" font-size=\"14.00\">value = [10, 0]</text>\r\n",
       "<text text-anchor=\"start\" x=\"23.5\" y=\"-7.8\" font-family=\"Helvetica,sans-Serif\" font-size=\"14.00\">class = 0</text>\r\n",
       "</g>\r\n",
       "<!-- 3&#45;&gt;4 -->\r\n",
       "<g id=\"edge4\" class=\"edge\"><title>3&#45;&gt;4</title>\r\n",
       "<path fill=\"none\" stroke=\"black\" d=\"M129.072,-103.726C118.605,-94.3318 107.482,-84.349 97.0532,-74.9883\"/>\r\n",
       "<polygon fill=\"black\" stroke=\"black\" points=\"99.3808,-72.3744 89.6009,-68.2996 94.7051,-77.5839 99.3808,-72.3744\"/>\r\n",
       "</g>\r\n",
       "<!-- 5 -->\r\n",
       "<g id=\"node6\" class=\"node\"><title>5</title>\r\n",
       "<path fill=\"#ffffff\" stroke=\"black\" d=\"M214,-68C214,-68 135,-68 135,-68 129,-68 123,-62 123,-56 123,-56 123,-12 123,-12 123,-6 129,-0 135,-0 135,-0 214,-0 214,-0 220,-0 226,-6 226,-12 226,-12 226,-56 226,-56 226,-62 220,-68 214,-68\"/>\r\n",
       "<text text-anchor=\"start\" x=\"145.5\" y=\"-52.8\" font-family=\"Helvetica,sans-Serif\" font-size=\"14.00\">gini = 0.5</text>\r\n",
       "<text text-anchor=\"start\" x=\"131\" y=\"-37.8\" font-family=\"Helvetica,sans-Serif\" font-size=\"14.00\">samples = 12</text>\r\n",
       "<text text-anchor=\"start\" x=\"134\" y=\"-22.8\" font-family=\"Helvetica,sans-Serif\" font-size=\"14.00\">value = [6, 6]</text>\r\n",
       "<text text-anchor=\"start\" x=\"145.5\" y=\"-7.8\" font-family=\"Helvetica,sans-Serif\" font-size=\"14.00\">class = 0</text>\r\n",
       "</g>\r\n",
       "<!-- 3&#45;&gt;5 -->\r\n",
       "<g id=\"edge5\" class=\"edge\"><title>3&#45;&gt;5</title>\r\n",
       "<path fill=\"none\" stroke=\"black\" d=\"M174.5,-103.726C174.5,-95.5175 174.5,-86.8595 174.5,-78.56\"/>\r\n",
       "<polygon fill=\"black\" stroke=\"black\" points=\"178,-78.2996 174.5,-68.2996 171,-78.2996 178,-78.2996\"/>\r\n",
       "</g>\r\n",
       "<!-- 7 -->\r\n",
       "<g id=\"node8\" class=\"node\"><title>7</title>\r\n",
       "<path fill=\"#aad5f4\" stroke=\"black\" d=\"M337,-68C337,-68 256,-68 256,-68 250,-68 244,-62 244,-56 244,-56 244,-12 244,-12 244,-6 250,-0 256,-0 256,-0 337,-0 337,-0 343,-0 349,-6 349,-12 349,-12 349,-56 349,-56 349,-62 343,-68 337,-68\"/>\r\n",
       "<text text-anchor=\"start\" x=\"259\" y=\"-52.8\" font-family=\"Helvetica,sans-Serif\" font-size=\"14.00\">gini = 0.463</text>\r\n",
       "<text text-anchor=\"start\" x=\"253\" y=\"-37.8\" font-family=\"Helvetica,sans-Serif\" font-size=\"14.00\">samples = 22</text>\r\n",
       "<text text-anchor=\"start\" x=\"252\" y=\"-22.8\" font-family=\"Helvetica,sans-Serif\" font-size=\"14.00\">value = [8, 14]</text>\r\n",
       "<text text-anchor=\"start\" x=\"267.5\" y=\"-7.8\" font-family=\"Helvetica,sans-Serif\" font-size=\"14.00\">class = 1</text>\r\n",
       "</g>\r\n",
       "<!-- 6&#45;&gt;7 -->\r\n",
       "<g id=\"edge7\" class=\"edge\"><title>6&#45;&gt;7</title>\r\n",
       "<path fill=\"none\" stroke=\"black\" d=\"M347.339,-103.726C340.727,-94.7878 333.721,-85.3168 327.092,-76.3558\"/>\r\n",
       "<polygon fill=\"black\" stroke=\"black\" points=\"329.893,-74.2576 321.133,-68.2996 324.266,-78.4206 329.893,-74.2576\"/>\r\n",
       "</g>\r\n",
       "<!-- 8 -->\r\n",
       "<g id=\"node9\" class=\"node\"><title>8</title>\r\n",
       "<path fill=\"#399de5\" stroke=\"black\" d=\"M452,-68C452,-68 379,-68 379,-68 373,-68 367,-62 367,-56 367,-56 367,-12 367,-12 367,-6 373,-0 379,-0 379,-0 452,-0 452,-0 458,-0 464,-6 464,-12 464,-12 464,-56 464,-56 464,-62 458,-68 452,-68\"/>\r\n",
       "<text text-anchor=\"start\" x=\"386.5\" y=\"-52.8\" font-family=\"Helvetica,sans-Serif\" font-size=\"14.00\">gini = 0.0</text>\r\n",
       "<text text-anchor=\"start\" x=\"376\" y=\"-37.8\" font-family=\"Helvetica,sans-Serif\" font-size=\"14.00\">samples = 8</text>\r\n",
       "<text text-anchor=\"start\" x=\"375\" y=\"-22.8\" font-family=\"Helvetica,sans-Serif\" font-size=\"14.00\">value = [0, 8]</text>\r\n",
       "<text text-anchor=\"start\" x=\"386.5\" y=\"-7.8\" font-family=\"Helvetica,sans-Serif\" font-size=\"14.00\">class = 1</text>\r\n",
       "</g>\r\n",
       "<!-- 6&#45;&gt;8 -->\r\n",
       "<g id=\"edge8\" class=\"edge\"><title>6&#45;&gt;8</title>\r\n",
       "<path fill=\"none\" stroke=\"black\" d=\"M391.65,-103.726C394.562,-95.3351 397.637,-86.4745 400.575,-78.0072\"/>\r\n",
       "<polygon fill=\"black\" stroke=\"black\" points=\"403.972,-78.8944 403.944,-68.2996 397.359,-76.5994 403.972,-78.8944\"/>\r\n",
       "</g>\r\n",
       "<!-- 10 -->\r\n",
       "<g id=\"node11\" class=\"node\"><title>10</title>\r\n",
       "<path fill=\"#7abdee\" stroke=\"black\" d=\"M701,-187C701,-187 594,-187 594,-187 588,-187 582,-181 582,-175 582,-175 582,-116 582,-116 582,-110 588,-104 594,-104 594,-104 701,-104 701,-104 707,-104 713,-110 713,-116 713,-116 713,-175 713,-175 713,-181 707,-187 701,-187\"/>\r\n",
       "<text text-anchor=\"start\" x=\"590\" y=\"-171.8\" font-family=\"Helvetica,sans-Serif\" font-size=\"14.00\">MaxHR ≤ 148.641</text>\r\n",
       "<text text-anchor=\"start\" x=\"610\" y=\"-156.8\" font-family=\"Helvetica,sans-Serif\" font-size=\"14.00\">gini = 0.372</text>\r\n",
       "<text text-anchor=\"start\" x=\"604\" y=\"-141.8\" font-family=\"Helvetica,sans-Serif\" font-size=\"14.00\">samples = 89</text>\r\n",
       "<text text-anchor=\"start\" x=\"599\" y=\"-126.8\" font-family=\"Helvetica,sans-Serif\" font-size=\"14.00\">value = [22, 67]</text>\r\n",
       "<text text-anchor=\"start\" x=\"618.5\" y=\"-111.8\" font-family=\"Helvetica,sans-Serif\" font-size=\"14.00\">class = 1</text>\r\n",
       "</g>\r\n",
       "<!-- 9&#45;&gt;10 -->\r\n",
       "<g id=\"edge10\" class=\"edge\"><title>9&#45;&gt;10</title>\r\n",
       "<path fill=\"none\" stroke=\"black\" d=\"M704.969,-222.907C698.211,-213.923 690.985,-204.315 684.016,-195.05\"/>\r\n",
       "<polygon fill=\"black\" stroke=\"black\" points=\"686.785,-192.909 677.977,-187.021 681.191,-197.116 686.785,-192.909\"/>\r\n",
       "</g>\r\n",
       "<!-- 13 -->\r\n",
       "<g id=\"node14\" class=\"node\"><title>13</title>\r\n",
       "<path fill=\"#46a4e7\" stroke=\"black\" d=\"M904,-187C904,-187 743,-187 743,-187 737,-187 731,-181 731,-175 731,-175 731,-116 731,-116 731,-110 737,-104 743,-104 743,-104 904,-104 904,-104 910,-104 916,-110 916,-116 916,-116 916,-175 916,-175 916,-181 910,-187 904,-187\"/>\r\n",
       "<text text-anchor=\"start\" x=\"739\" y=\"-171.8\" font-family=\"Helvetica,sans-Serif\" font-size=\"14.00\">ExerciseAngina_N ≤ 0.773</text>\r\n",
       "<text text-anchor=\"start\" x=\"790\" y=\"-156.8\" font-family=\"Helvetica,sans-Serif\" font-size=\"14.00\">gini = 0.12</text>\r\n",
       "<text text-anchor=\"start\" x=\"776\" y=\"-141.8\" font-family=\"Helvetica,sans-Serif\" font-size=\"14.00\">samples = 235</text>\r\n",
       "<text text-anchor=\"start\" x=\"770.5\" y=\"-126.8\" font-family=\"Helvetica,sans-Serif\" font-size=\"14.00\">value = [15, 220]</text>\r\n",
       "<text text-anchor=\"start\" x=\"794.5\" y=\"-111.8\" font-family=\"Helvetica,sans-Serif\" font-size=\"14.00\">class = 1</text>\r\n",
       "</g>\r\n",
       "<!-- 9&#45;&gt;13 -->\r\n",
       "<g id=\"edge13\" class=\"edge\"><title>9&#45;&gt;13</title>\r\n",
       "<path fill=\"none\" stroke=\"black\" d=\"M766.031,-222.907C772.789,-213.923 780.015,-204.315 786.984,-195.05\"/>\r\n",
       "<polygon fill=\"black\" stroke=\"black\" points=\"789.809,-197.116 793.023,-187.021 784.215,-192.909 789.809,-197.116\"/>\r\n",
       "</g>\r\n",
       "<!-- 11 -->\r\n",
       "<g id=\"node12\" class=\"node\"><title>11</title>\r\n",
       "<path fill=\"#67b4eb\" stroke=\"black\" d=\"M583,-68C583,-68 494,-68 494,-68 488,-68 482,-62 482,-56 482,-56 482,-12 482,-12 482,-6 488,-0 494,-0 494,-0 583,-0 583,-0 589,-0 595,-6 595,-12 595,-12 595,-56 595,-56 595,-62 589,-68 583,-68\"/>\r\n",
       "<text text-anchor=\"start\" x=\"501\" y=\"-52.8\" font-family=\"Helvetica,sans-Serif\" font-size=\"14.00\">gini = 0.305</text>\r\n",
       "<text text-anchor=\"start\" x=\"495\" y=\"-37.8\" font-family=\"Helvetica,sans-Serif\" font-size=\"14.00\">samples = 64</text>\r\n",
       "<text text-anchor=\"start\" x=\"490\" y=\"-22.8\" font-family=\"Helvetica,sans-Serif\" font-size=\"14.00\">value = [12, 52]</text>\r\n",
       "<text text-anchor=\"start\" x=\"509.5\" y=\"-7.8\" font-family=\"Helvetica,sans-Serif\" font-size=\"14.00\">class = 1</text>\r\n",
       "</g>\r\n",
       "<!-- 10&#45;&gt;11 -->\r\n",
       "<g id=\"edge11\" class=\"edge\"><title>10&#45;&gt;11</title>\r\n",
       "<path fill=\"none\" stroke=\"black\" d=\"M606.912,-103.726C597.742,-94.5142 588.009,-84.7364 578.849,-75.5343\"/>\r\n",
       "<polygon fill=\"black\" stroke=\"black\" points=\"581.183,-72.9176 571.648,-68.2996 576.222,-77.8561 581.183,-72.9176\"/>\r\n",
       "</g>\r\n",
       "<!-- 12 -->\r\n",
       "<g id=\"node13\" class=\"node\"><title>12</title>\r\n",
       "<path fill=\"#bddef6\" stroke=\"black\" d=\"M714,-68C714,-68 625,-68 625,-68 619,-68 613,-62 613,-56 613,-56 613,-12 613,-12 613,-6 619,-0 625,-0 625,-0 714,-0 714,-0 720,-0 726,-6 726,-12 726,-12 726,-56 726,-56 726,-62 720,-68 714,-68\"/>\r\n",
       "<text text-anchor=\"start\" x=\"636\" y=\"-52.8\" font-family=\"Helvetica,sans-Serif\" font-size=\"14.00\">gini = 0.48</text>\r\n",
       "<text text-anchor=\"start\" x=\"626\" y=\"-37.8\" font-family=\"Helvetica,sans-Serif\" font-size=\"14.00\">samples = 25</text>\r\n",
       "<text text-anchor=\"start\" x=\"621\" y=\"-22.8\" font-family=\"Helvetica,sans-Serif\" font-size=\"14.00\">value = [10, 15]</text>\r\n",
       "<text text-anchor=\"start\" x=\"640.5\" y=\"-7.8\" font-family=\"Helvetica,sans-Serif\" font-size=\"14.00\">class = 1</text>\r\n",
       "</g>\r\n",
       "<!-- 10&#45;&gt;12 -->\r\n",
       "<g id=\"edge12\" class=\"edge\"><title>10&#45;&gt;12</title>\r\n",
       "<path fill=\"none\" stroke=\"black\" d=\"M655.692,-103.726C657.36,-95.4263 659.119,-86.6671 660.804,-78.2834\"/>\r\n",
       "<polygon fill=\"black\" stroke=\"black\" points=\"664.271,-78.7931 662.81,-68.2996 657.408,-77.4142 664.271,-78.7931\"/>\r\n",
       "</g>\r\n",
       "<!-- 14 -->\r\n",
       "<g id=\"node15\" class=\"node\"><title>14</title>\r\n",
       "<path fill=\"#42a1e6\" stroke=\"black\" d=\"M845,-68C845,-68 756,-68 756,-68 750,-68 744,-62 744,-56 744,-56 744,-12 744,-12 744,-6 750,-0 756,-0 756,-0 845,-0 845,-0 851,-0 857,-6 857,-12 857,-12 857,-56 857,-56 857,-62 851,-68 845,-68\"/>\r\n",
       "<text text-anchor=\"start\" x=\"767\" y=\"-52.8\" font-family=\"Helvetica,sans-Serif\" font-size=\"14.00\">gini = 0.08</text>\r\n",
       "<text text-anchor=\"start\" x=\"753\" y=\"-37.8\" font-family=\"Helvetica,sans-Serif\" font-size=\"14.00\">samples = 167</text>\r\n",
       "<text text-anchor=\"start\" x=\"752\" y=\"-22.8\" font-family=\"Helvetica,sans-Serif\" font-size=\"14.00\">value = [7, 160]</text>\r\n",
       "<text text-anchor=\"start\" x=\"771.5\" y=\"-7.8\" font-family=\"Helvetica,sans-Serif\" font-size=\"14.00\">class = 1</text>\r\n",
       "</g>\r\n",
       "<!-- 13&#45;&gt;14 -->\r\n",
       "<g id=\"edge14\" class=\"edge\"><title>13&#45;&gt;14</title>\r\n",
       "<path fill=\"none\" stroke=\"black\" d=\"M814.936,-103.726C813.192,-95.4263 811.352,-86.6671 809.591,-78.2834\"/>\r\n",
       "<polygon fill=\"black\" stroke=\"black\" points=\"812.975,-77.3666 807.494,-68.2996 806.125,-78.8055 812.975,-77.3666\"/>\r\n",
       "</g>\r\n",
       "<!-- 15 -->\r\n",
       "<g id=\"node16\" class=\"node\"><title>15</title>\r\n",
       "<path fill=\"#53aae8\" stroke=\"black\" d=\"M968,-68C968,-68 887,-68 887,-68 881,-68 875,-62 875,-56 875,-56 875,-12 875,-12 875,-6 881,-0 887,-0 887,-0 968,-0 968,-0 974,-0 980,-6 980,-12 980,-12 980,-56 980,-56 980,-62 974,-68 968,-68\"/>\r\n",
       "<text text-anchor=\"start\" x=\"890\" y=\"-52.8\" font-family=\"Helvetica,sans-Serif\" font-size=\"14.00\">gini = 0.208</text>\r\n",
       "<text text-anchor=\"start\" x=\"884\" y=\"-37.8\" font-family=\"Helvetica,sans-Serif\" font-size=\"14.00\">samples = 68</text>\r\n",
       "<text text-anchor=\"start\" x=\"883\" y=\"-22.8\" font-family=\"Helvetica,sans-Serif\" font-size=\"14.00\">value = [8, 60]</text>\r\n",
       "<text text-anchor=\"start\" x=\"898.5\" y=\"-7.8\" font-family=\"Helvetica,sans-Serif\" font-size=\"14.00\">class = 1</text>\r\n",
       "</g>\r\n",
       "<!-- 13&#45;&gt;15 -->\r\n",
       "<g id=\"edge15\" class=\"edge\"><title>13&#45;&gt;15</title>\r\n",
       "<path fill=\"none\" stroke=\"black\" d=\"M862.226,-103.726C870.888,-94.6054 880.078,-84.93 888.742,-75.8078\"/>\r\n",
       "<polygon fill=\"black\" stroke=\"black\" points=\"891.524,-77.9608 895.873,-68.2996 886.449,-73.1401 891.524,-77.9608\"/>\r\n",
       "</g>\r\n",
       "<!-- 17 -->\r\n",
       "<g id=\"node18\" class=\"node\"><title>17</title>\r\n",
       "<path fill=\"#e78946\" stroke=\"black\" d=\"M1289.5,-306C1289.5,-306 1191.5,-306 1191.5,-306 1185.5,-306 1179.5,-300 1179.5,-294 1179.5,-294 1179.5,-235 1179.5,-235 1179.5,-229 1185.5,-223 1191.5,-223 1191.5,-223 1289.5,-223 1289.5,-223 1295.5,-223 1301.5,-229 1301.5,-235 1301.5,-235 1301.5,-294 1301.5,-294 1301.5,-300 1295.5,-306 1289.5,-306\"/>\r\n",
       "<text text-anchor=\"start\" x=\"1197\" y=\"-290.8\" font-family=\"Helvetica,sans-Serif\" font-size=\"14.00\">Age ≤ 63.799</text>\r\n",
       "<text text-anchor=\"start\" x=\"1203\" y=\"-275.8\" font-family=\"Helvetica,sans-Serif\" font-size=\"14.00\">gini = 0.116</text>\r\n",
       "<text text-anchor=\"start\" x=\"1193\" y=\"-260.8\" font-family=\"Helvetica,sans-Serif\" font-size=\"14.00\">samples = 211</text>\r\n",
       "<text text-anchor=\"start\" x=\"1187.5\" y=\"-245.8\" font-family=\"Helvetica,sans-Serif\" font-size=\"14.00\">value = [198, 13]</text>\r\n",
       "<text text-anchor=\"start\" x=\"1211.5\" y=\"-230.8\" font-family=\"Helvetica,sans-Serif\" font-size=\"14.00\">class = 0</text>\r\n",
       "</g>\r\n",
       "<!-- 16&#45;&gt;17 -->\r\n",
       "<g id=\"edge17\" class=\"edge\"><title>16&#45;&gt;17</title>\r\n",
       "<path fill=\"none\" stroke=\"black\" d=\"M1240.5,-341.907C1240.5,-333.649 1240.5,-324.864 1240.5,-316.302\"/>\r\n",
       "<polygon fill=\"black\" stroke=\"black\" points=\"1244,-316.021 1240.5,-306.021 1237,-316.021 1244,-316.021\"/>\r\n",
       "</g>\r\n",
       "<!-- 24 -->\r\n",
       "<g id=\"node25\" class=\"node\"><title>24</title>\r\n",
       "<path fill=\"#fae6d8\" stroke=\"black\" d=\"M1617.5,-306C1617.5,-306 1519.5,-306 1519.5,-306 1513.5,-306 1507.5,-300 1507.5,-294 1507.5,-294 1507.5,-235 1507.5,-235 1507.5,-229 1513.5,-223 1519.5,-223 1519.5,-223 1617.5,-223 1617.5,-223 1623.5,-223 1629.5,-229 1629.5,-235 1629.5,-235 1629.5,-294 1629.5,-294 1629.5,-300 1623.5,-306 1617.5,-306\"/>\r\n",
       "<text text-anchor=\"start\" x=\"1515.5\" y=\"-290.8\" font-family=\"Helvetica,sans-Serif\" font-size=\"14.00\">Oldpeak ≤ 0.911</text>\r\n",
       "<text text-anchor=\"start\" x=\"1531\" y=\"-275.8\" font-family=\"Helvetica,sans-Serif\" font-size=\"14.00\">gini = 0.494</text>\r\n",
       "<text text-anchor=\"start\" x=\"1521\" y=\"-260.8\" font-family=\"Helvetica,sans-Serif\" font-size=\"14.00\">samples = 101</text>\r\n",
       "<text text-anchor=\"start\" x=\"1520\" y=\"-245.8\" font-family=\"Helvetica,sans-Serif\" font-size=\"14.00\">value = [56, 45]</text>\r\n",
       "<text text-anchor=\"start\" x=\"1539.5\" y=\"-230.8\" font-family=\"Helvetica,sans-Serif\" font-size=\"14.00\">class = 0</text>\r\n",
       "</g>\r\n",
       "<!-- 16&#45;&gt;24 -->\r\n",
       "<g id=\"edge24\" class=\"edge\"><title>16&#45;&gt;24</title>\r\n",
       "<path fill=\"none\" stroke=\"black\" d=\"M1342.03,-346.282C1392.45,-328.299 1452.12,-307.015 1497.55,-290.809\"/>\r\n",
       "<polygon fill=\"black\" stroke=\"black\" points=\"1498.78,-294.087 1507.02,-287.431 1496.42,-287.494 1498.78,-294.087\"/>\r\n",
       "</g>\r\n",
       "<!-- 18 -->\r\n",
       "<g id=\"node19\" class=\"node\"><title>18</title>\r\n",
       "<path fill=\"#e68743\" stroke=\"black\" d=\"M1221.5,-187C1221.5,-187 1123.5,-187 1123.5,-187 1117.5,-187 1111.5,-181 1111.5,-175 1111.5,-175 1111.5,-116 1111.5,-116 1111.5,-110 1117.5,-104 1123.5,-104 1123.5,-104 1221.5,-104 1221.5,-104 1227.5,-104 1233.5,-110 1233.5,-116 1233.5,-116 1233.5,-175 1233.5,-175 1233.5,-181 1227.5,-187 1221.5,-187\"/>\r\n",
       "<text text-anchor=\"start\" x=\"1119.5\" y=\"-171.8\" font-family=\"Helvetica,sans-Serif\" font-size=\"14.00\">Oldpeak ≤ 0.416</text>\r\n",
       "<text text-anchor=\"start\" x=\"1135\" y=\"-156.8\" font-family=\"Helvetica,sans-Serif\" font-size=\"14.00\">gini = 0.088</text>\r\n",
       "<text text-anchor=\"start\" x=\"1125\" y=\"-141.8\" font-family=\"Helvetica,sans-Serif\" font-size=\"14.00\">samples = 196</text>\r\n",
       "<text text-anchor=\"start\" x=\"1124\" y=\"-126.8\" font-family=\"Helvetica,sans-Serif\" font-size=\"14.00\">value = [187, 9]</text>\r\n",
       "<text text-anchor=\"start\" x=\"1143.5\" y=\"-111.8\" font-family=\"Helvetica,sans-Serif\" font-size=\"14.00\">class = 0</text>\r\n",
       "</g>\r\n",
       "<!-- 17&#45;&gt;18 -->\r\n",
       "<g id=\"edge18\" class=\"edge\"><title>17&#45;&gt;18</title>\r\n",
       "<path fill=\"none\" stroke=\"black\" d=\"M1216.91,-222.907C1211.84,-214.195 1206.44,-204.897 1201.21,-195.893\"/>\r\n",
       "<polygon fill=\"black\" stroke=\"black\" points=\"1204.1,-193.908 1196.05,-187.021 1198.05,-197.425 1204.1,-193.908\"/>\r\n",
       "</g>\r\n",
       "<!-- 21 -->\r\n",
       "<g id=\"node22\" class=\"node\"><title>21</title>\r\n",
       "<path fill=\"#eeaf81\" stroke=\"black\" d=\"M1353,-187C1353,-187 1264,-187 1264,-187 1258,-187 1252,-181 1252,-175 1252,-175 1252,-116 1252,-116 1252,-110 1258,-104 1264,-104 1264,-104 1353,-104 1353,-104 1359,-104 1365,-110 1365,-116 1365,-116 1365,-175 1365,-175 1365,-181 1359,-187 1353,-187\"/>\r\n",
       "<text text-anchor=\"start\" x=\"1260\" y=\"-171.8\" font-family=\"Helvetica,sans-Serif\" font-size=\"14.00\">Sex_M ≤ 0.748</text>\r\n",
       "<text text-anchor=\"start\" x=\"1271\" y=\"-156.8\" font-family=\"Helvetica,sans-Serif\" font-size=\"14.00\">gini = 0.391</text>\r\n",
       "<text text-anchor=\"start\" x=\"1265\" y=\"-141.8\" font-family=\"Helvetica,sans-Serif\" font-size=\"14.00\">samples = 15</text>\r\n",
       "<text text-anchor=\"start\" x=\"1264\" y=\"-126.8\" font-family=\"Helvetica,sans-Serif\" font-size=\"14.00\">value = [11, 4]</text>\r\n",
       "<text text-anchor=\"start\" x=\"1279.5\" y=\"-111.8\" font-family=\"Helvetica,sans-Serif\" font-size=\"14.00\">class = 0</text>\r\n",
       "</g>\r\n",
       "<!-- 17&#45;&gt;21 -->\r\n",
       "<g id=\"edge21\" class=\"edge\"><title>17&#45;&gt;21</title>\r\n",
       "<path fill=\"none\" stroke=\"black\" d=\"M1264.09,-222.907C1269.16,-214.195 1274.56,-204.897 1279.79,-195.893\"/>\r\n",
       "<polygon fill=\"black\" stroke=\"black\" points=\"1282.95,-197.425 1284.95,-187.021 1276.9,-193.908 1282.95,-197.425\"/>\r\n",
       "</g>\r\n",
       "<!-- 19 -->\r\n",
       "<g id=\"node20\" class=\"node\"><title>19</title>\r\n",
       "<path fill=\"#e6843e\" stroke=\"black\" d=\"M1099,-68C1099,-68 1010,-68 1010,-68 1004,-68 998,-62 998,-56 998,-56 998,-12 998,-12 998,-6 1004,-0 1010,-0 1010,-0 1099,-0 1099,-0 1105,-0 1111,-6 1111,-12 1111,-12 1111,-56 1111,-56 1111,-62 1105,-68 1099,-68\"/>\r\n",
       "<text text-anchor=\"start\" x=\"1017\" y=\"-52.8\" font-family=\"Helvetica,sans-Serif\" font-size=\"14.00\">gini = 0.046</text>\r\n",
       "<text text-anchor=\"start\" x=\"1007\" y=\"-37.8\" font-family=\"Helvetica,sans-Serif\" font-size=\"14.00\">samples = 168</text>\r\n",
       "<text text-anchor=\"start\" x=\"1006\" y=\"-22.8\" font-family=\"Helvetica,sans-Serif\" font-size=\"14.00\">value = [164, 4]</text>\r\n",
       "<text text-anchor=\"start\" x=\"1025.5\" y=\"-7.8\" font-family=\"Helvetica,sans-Serif\" font-size=\"14.00\">class = 0</text>\r\n",
       "</g>\r\n",
       "<!-- 18&#45;&gt;19 -->\r\n",
       "<g id=\"edge19\" class=\"edge\"><title>18&#45;&gt;19</title>\r\n",
       "<path fill=\"none\" stroke=\"black\" d=\"M1128.56,-103.726C1118.54,-94.423 1107.89,-84.5428 1097.89,-75.2612\"/>\r\n",
       "<polygon fill=\"black\" stroke=\"black\" points=\"1100.1,-72.5362 1090.38,-68.2996 1095.33,-77.6673 1100.1,-72.5362\"/>\r\n",
       "</g>\r\n",
       "<!-- 20 -->\r\n",
       "<g id=\"node21\" class=\"node\"><title>20</title>\r\n",
       "<path fill=\"#eb9c64\" stroke=\"black\" d=\"M1222,-68C1222,-68 1141,-68 1141,-68 1135,-68 1129,-62 1129,-56 1129,-56 1129,-12 1129,-12 1129,-6 1135,-0 1141,-0 1141,-0 1222,-0 1222,-0 1228,-0 1234,-6 1234,-12 1234,-12 1234,-56 1234,-56 1234,-62 1228,-68 1222,-68\"/>\r\n",
       "<text text-anchor=\"start\" x=\"1144\" y=\"-52.8\" font-family=\"Helvetica,sans-Serif\" font-size=\"14.00\">gini = 0.293</text>\r\n",
       "<text text-anchor=\"start\" x=\"1138\" y=\"-37.8\" font-family=\"Helvetica,sans-Serif\" font-size=\"14.00\">samples = 28</text>\r\n",
       "<text text-anchor=\"start\" x=\"1137\" y=\"-22.8\" font-family=\"Helvetica,sans-Serif\" font-size=\"14.00\">value = [23, 5]</text>\r\n",
       "<text text-anchor=\"start\" x=\"1152.5\" y=\"-7.8\" font-family=\"Helvetica,sans-Serif\" font-size=\"14.00\">class = 0</text>\r\n",
       "</g>\r\n",
       "<!-- 18&#45;&gt;20 -->\r\n",
       "<g id=\"edge20\" class=\"edge\"><title>18&#45;&gt;20</title>\r\n",
       "<path fill=\"none\" stroke=\"black\" d=\"M1175.85,-103.726C1176.53,-95.4263 1177.25,-86.6671 1177.94,-78.2834\"/>\r\n",
       "<polygon fill=\"black\" stroke=\"black\" points=\"1181.43,-78.5527 1178.76,-68.2996 1174.46,-77.9793 1181.43,-78.5527\"/>\r\n",
       "</g>\r\n",
       "<!-- 22 -->\r\n",
       "<g id=\"node23\" class=\"node\"><title>22</title>\r\n",
       "<path fill=\"#e89152\" stroke=\"black\" d=\"M1337,-68C1337,-68 1264,-68 1264,-68 1258,-68 1252,-62 1252,-56 1252,-56 1252,-12 1252,-12 1252,-6 1258,-0 1264,-0 1264,-0 1337,-0 1337,-0 1343,-0 1349,-6 1349,-12 1349,-12 1349,-56 1349,-56 1349,-62 1343,-68 1337,-68\"/>\r\n",
       "<text text-anchor=\"start\" x=\"1263\" y=\"-52.8\" font-family=\"Helvetica,sans-Serif\" font-size=\"14.00\">gini = 0.198</text>\r\n",
       "<text text-anchor=\"start\" x=\"1261\" y=\"-37.8\" font-family=\"Helvetica,sans-Serif\" font-size=\"14.00\">samples = 9</text>\r\n",
       "<text text-anchor=\"start\" x=\"1260\" y=\"-22.8\" font-family=\"Helvetica,sans-Serif\" font-size=\"14.00\">value = [8, 1]</text>\r\n",
       "<text text-anchor=\"start\" x=\"1271.5\" y=\"-7.8\" font-family=\"Helvetica,sans-Serif\" font-size=\"14.00\">class = 0</text>\r\n",
       "</g>\r\n",
       "<!-- 21&#45;&gt;22 -->\r\n",
       "<g id=\"edge22\" class=\"edge\"><title>21&#45;&gt;22</title>\r\n",
       "<path fill=\"none\" stroke=\"black\" d=\"M1305.52,-103.726C1304.91,-95.4263 1304.27,-86.6671 1303.66,-78.2834\"/>\r\n",
       "<polygon fill=\"black\" stroke=\"black\" points=\"1307.15,-78.018 1302.93,-68.2996 1300.17,-78.5281 1307.15,-78.018\"/>\r\n",
       "</g>\r\n",
       "<!-- 23 -->\r\n",
       "<g id=\"node24\" class=\"node\"><title>23</title>\r\n",
       "<path fill=\"#ffffff\" stroke=\"black\" d=\"M1452,-68C1452,-68 1379,-68 1379,-68 1373,-68 1367,-62 1367,-56 1367,-56 1367,-12 1367,-12 1367,-6 1373,-0 1379,-0 1379,-0 1452,-0 1452,-0 1458,-0 1464,-6 1464,-12 1464,-12 1464,-56 1464,-56 1464,-62 1458,-68 1452,-68\"/>\r\n",
       "<text text-anchor=\"start\" x=\"1386.5\" y=\"-52.8\" font-family=\"Helvetica,sans-Serif\" font-size=\"14.00\">gini = 0.5</text>\r\n",
       "<text text-anchor=\"start\" x=\"1376\" y=\"-37.8\" font-family=\"Helvetica,sans-Serif\" font-size=\"14.00\">samples = 6</text>\r\n",
       "<text text-anchor=\"start\" x=\"1375\" y=\"-22.8\" font-family=\"Helvetica,sans-Serif\" font-size=\"14.00\">value = [3, 3]</text>\r\n",
       "<text text-anchor=\"start\" x=\"1386.5\" y=\"-7.8\" font-family=\"Helvetica,sans-Serif\" font-size=\"14.00\">class = 0</text>\r\n",
       "</g>\r\n",
       "<!-- 21&#45;&gt;23 -->\r\n",
       "<g id=\"edge23\" class=\"edge\"><title>21&#45;&gt;23</title>\r\n",
       "<path fill=\"none\" stroke=\"black\" d=\"M1348.34,-103.726C1357.34,-94.5142 1366.9,-84.7364 1375.89,-75.5343\"/>\r\n",
       "<polygon fill=\"black\" stroke=\"black\" points=\"1378.47,-77.898 1382.96,-68.2996 1373.47,-73.0057 1378.47,-77.898\"/>\r\n",
       "</g>\r\n",
       "<!-- 25 -->\r\n",
       "<g id=\"node26\" class=\"node\"><title>25</title>\r\n",
       "<path fill=\"#f1bd98\" stroke=\"black\" d=\"M1649,-187C1649,-187 1488,-187 1488,-187 1482,-187 1476,-181 1476,-175 1476,-175 1476,-116 1476,-116 1476,-110 1482,-104 1488,-104 1488,-104 1649,-104 1649,-104 1655,-104 1661,-110 1661,-116 1661,-116 1661,-175 1661,-175 1661,-181 1655,-187 1649,-187\"/>\r\n",
       "<text text-anchor=\"start\" x=\"1484\" y=\"-171.8\" font-family=\"Helvetica,sans-Serif\" font-size=\"14.00\">RestingECG_LVH ≤ 0.475</text>\r\n",
       "<text text-anchor=\"start\" x=\"1531\" y=\"-156.8\" font-family=\"Helvetica,sans-Serif\" font-size=\"14.00\">gini = 0.438</text>\r\n",
       "<text text-anchor=\"start\" x=\"1525\" y=\"-141.8\" font-family=\"Helvetica,sans-Serif\" font-size=\"14.00\">samples = 71</text>\r\n",
       "<text text-anchor=\"start\" x=\"1520\" y=\"-126.8\" font-family=\"Helvetica,sans-Serif\" font-size=\"14.00\">value = [48, 23]</text>\r\n",
       "<text text-anchor=\"start\" x=\"1539.5\" y=\"-111.8\" font-family=\"Helvetica,sans-Serif\" font-size=\"14.00\">class = 0</text>\r\n",
       "</g>\r\n",
       "<!-- 24&#45;&gt;25 -->\r\n",
       "<g id=\"edge25\" class=\"edge\"><title>24&#45;&gt;25</title>\r\n",
       "<path fill=\"none\" stroke=\"black\" d=\"M1568.5,-222.907C1568.5,-214.649 1568.5,-205.864 1568.5,-197.302\"/>\r\n",
       "<polygon fill=\"black\" stroke=\"black\" points=\"1572,-197.021 1568.5,-187.021 1565,-197.021 1572,-197.021\"/>\r\n",
       "</g>\r\n",
       "<!-- 28 -->\r\n",
       "<g id=\"node29\" class=\"node\"><title>28</title>\r\n",
       "<path fill=\"#81c1ee\" stroke=\"black\" d=\"M1851,-187C1851,-187 1722,-187 1722,-187 1716,-187 1710,-181 1710,-175 1710,-175 1710,-116 1710,-116 1710,-110 1716,-104 1722,-104 1722,-104 1851,-104 1851,-104 1857,-104 1863,-110 1863,-116 1863,-116 1863,-175 1863,-175 1863,-181 1857,-187 1851,-187\"/>\r\n",
       "<text text-anchor=\"start\" x=\"1718\" y=\"-171.8\" font-family=\"Helvetica,sans-Serif\" font-size=\"14.00\">RestingBP ≤ 146.657</text>\r\n",
       "<text text-anchor=\"start\" x=\"1749\" y=\"-156.8\" font-family=\"Helvetica,sans-Serif\" font-size=\"14.00\">gini = 0.391</text>\r\n",
       "<text text-anchor=\"start\" x=\"1743\" y=\"-141.8\" font-family=\"Helvetica,sans-Serif\" font-size=\"14.00\">samples = 30</text>\r\n",
       "<text text-anchor=\"start\" x=\"1742\" y=\"-126.8\" font-family=\"Helvetica,sans-Serif\" font-size=\"14.00\">value = [8, 22]</text>\r\n",
       "<text text-anchor=\"start\" x=\"1757.5\" y=\"-111.8\" font-family=\"Helvetica,sans-Serif\" font-size=\"14.00\">class = 1</text>\r\n",
       "</g>\r\n",
       "<!-- 24&#45;&gt;28 -->\r\n",
       "<g id=\"edge28\" class=\"edge\"><title>24&#45;&gt;28</title>\r\n",
       "<path fill=\"none\" stroke=\"black\" d=\"M1629.52,-230.753C1651.85,-218.764 1677.55,-204.972 1701.6,-192.065\"/>\r\n",
       "<polygon fill=\"black\" stroke=\"black\" points=\"1703.57,-194.98 1710.73,-187.167 1700.26,-188.812 1703.57,-194.98\"/>\r\n",
       "</g>\r\n",
       "<!-- 26 -->\r\n",
       "<g id=\"node27\" class=\"node\"><title>26</title>\r\n",
       "<path fill=\"#efaf81\" stroke=\"black\" d=\"M1583,-68C1583,-68 1494,-68 1494,-68 1488,-68 1482,-62 1482,-56 1482,-56 1482,-12 1482,-12 1482,-6 1488,-0 1494,-0 1494,-0 1583,-0 1583,-0 1589,-0 1595,-6 1595,-12 1595,-12 1595,-56 1595,-56 1595,-62 1589,-68 1583,-68\"/>\r\n",
       "<text text-anchor=\"start\" x=\"1501\" y=\"-52.8\" font-family=\"Helvetica,sans-Serif\" font-size=\"14.00\">gini = 0.392</text>\r\n",
       "<text text-anchor=\"start\" x=\"1495\" y=\"-37.8\" font-family=\"Helvetica,sans-Serif\" font-size=\"14.00\">samples = 56</text>\r\n",
       "<text text-anchor=\"start\" x=\"1490\" y=\"-22.8\" font-family=\"Helvetica,sans-Serif\" font-size=\"14.00\">value = [41, 15]</text>\r\n",
       "<text text-anchor=\"start\" x=\"1509.5\" y=\"-7.8\" font-family=\"Helvetica,sans-Serif\" font-size=\"14.00\">class = 0</text>\r\n",
       "</g>\r\n",
       "<!-- 25&#45;&gt;26 -->\r\n",
       "<g id=\"edge26\" class=\"edge\"><title>25&#45;&gt;26</title>\r\n",
       "<path fill=\"none\" stroke=\"black\" d=\"M1557.33,-103.726C1555.03,-95.3351 1552.6,-86.4745 1550.28,-78.0072\"/>\r\n",
       "<polygon fill=\"black\" stroke=\"black\" points=\"1553.64,-77.0193 1547.62,-68.2996 1546.89,-78.869 1553.64,-77.0193\"/>\r\n",
       "</g>\r\n",
       "<!-- 27 -->\r\n",
       "<g id=\"node28\" class=\"node\"><title>27</title>\r\n",
       "<path fill=\"#e6f3fc\" stroke=\"black\" d=\"M1704,-68C1704,-68 1625,-68 1625,-68 1619,-68 1613,-62 1613,-56 1613,-56 1613,-12 1613,-12 1613,-6 1619,-0 1625,-0 1625,-0 1704,-0 1704,-0 1710,-0 1716,-6 1716,-12 1716,-12 1716,-56 1716,-56 1716,-62 1710,-68 1704,-68\"/>\r\n",
       "<text text-anchor=\"start\" x=\"1627\" y=\"-52.8\" font-family=\"Helvetica,sans-Serif\" font-size=\"14.00\">gini = 0.498</text>\r\n",
       "<text text-anchor=\"start\" x=\"1621\" y=\"-37.8\" font-family=\"Helvetica,sans-Serif\" font-size=\"14.00\">samples = 15</text>\r\n",
       "<text text-anchor=\"start\" x=\"1624\" y=\"-22.8\" font-family=\"Helvetica,sans-Serif\" font-size=\"14.00\">value = [7, 8]</text>\r\n",
       "<text text-anchor=\"start\" x=\"1635.5\" y=\"-7.8\" font-family=\"Helvetica,sans-Serif\" font-size=\"14.00\">class = 1</text>\r\n",
       "</g>\r\n",
       "<!-- 25&#45;&gt;27 -->\r\n",
       "<g id=\"edge27\" class=\"edge\"><title>25&#45;&gt;27</title>\r\n",
       "<path fill=\"none\" stroke=\"black\" d=\"M1604.25,-103.726C1612.16,-94.6966 1620.56,-85.1235 1628.48,-76.0816\"/>\r\n",
       "<polygon fill=\"black\" stroke=\"black\" points=\"1631.35,-78.1263 1635.31,-68.2996 1626.08,-73.5117 1631.35,-78.1263\"/>\r\n",
       "</g>\r\n",
       "<!-- 29 -->\r\n",
       "<g id=\"node30\" class=\"node\"><title>29</title>\r\n",
       "<path fill=\"#61b1ea\" stroke=\"black\" d=\"M1827,-68C1827,-68 1746,-68 1746,-68 1740,-68 1734,-62 1734,-56 1734,-56 1734,-12 1734,-12 1734,-6 1740,-0 1746,-0 1746,-0 1827,-0 1827,-0 1833,-0 1839,-6 1839,-12 1839,-12 1839,-56 1839,-56 1839,-62 1833,-68 1827,-68\"/>\r\n",
       "<text text-anchor=\"start\" x=\"1749\" y=\"-52.8\" font-family=\"Helvetica,sans-Serif\" font-size=\"14.00\">gini = 0.278</text>\r\n",
       "<text text-anchor=\"start\" x=\"1743\" y=\"-37.8\" font-family=\"Helvetica,sans-Serif\" font-size=\"14.00\">samples = 24</text>\r\n",
       "<text text-anchor=\"start\" x=\"1742\" y=\"-22.8\" font-family=\"Helvetica,sans-Serif\" font-size=\"14.00\">value = [4, 20]</text>\r\n",
       "<text text-anchor=\"start\" x=\"1757.5\" y=\"-7.8\" font-family=\"Helvetica,sans-Serif\" font-size=\"14.00\">class = 1</text>\r\n",
       "</g>\r\n",
       "<!-- 28&#45;&gt;29 -->\r\n",
       "<g id=\"edge29\" class=\"edge\"><title>28&#45;&gt;29</title>\r\n",
       "<path fill=\"none\" stroke=\"black\" d=\"M1786.5,-103.726C1786.5,-95.5175 1786.5,-86.8595 1786.5,-78.56\"/>\r\n",
       "<polygon fill=\"black\" stroke=\"black\" points=\"1790,-78.2996 1786.5,-68.2996 1783,-78.2996 1790,-78.2996\"/>\r\n",
       "</g>\r\n",
       "<!-- 30 -->\r\n",
       "<g id=\"node31\" class=\"node\"><title>30</title>\r\n",
       "<path fill=\"#f2c09c\" stroke=\"black\" d=\"M1942,-68C1942,-68 1869,-68 1869,-68 1863,-68 1857,-62 1857,-56 1857,-56 1857,-12 1857,-12 1857,-6 1863,-0 1869,-0 1869,-0 1942,-0 1942,-0 1948,-0 1954,-6 1954,-12 1954,-12 1954,-56 1954,-56 1954,-62 1948,-68 1942,-68\"/>\r\n",
       "<text text-anchor=\"start\" x=\"1868\" y=\"-52.8\" font-family=\"Helvetica,sans-Serif\" font-size=\"14.00\">gini = 0.444</text>\r\n",
       "<text text-anchor=\"start\" x=\"1866\" y=\"-37.8\" font-family=\"Helvetica,sans-Serif\" font-size=\"14.00\">samples = 6</text>\r\n",
       "<text text-anchor=\"start\" x=\"1865\" y=\"-22.8\" font-family=\"Helvetica,sans-Serif\" font-size=\"14.00\">value = [4, 2]</text>\r\n",
       "<text text-anchor=\"start\" x=\"1876.5\" y=\"-7.8\" font-family=\"Helvetica,sans-Serif\" font-size=\"14.00\">class = 0</text>\r\n",
       "</g>\r\n",
       "<!-- 28&#45;&gt;30 -->\r\n",
       "<g id=\"edge30\" class=\"edge\"><title>28&#45;&gt;30</title>\r\n",
       "<path fill=\"none\" stroke=\"black\" d=\"M1830.81,-103.726C1840.92,-94.423 1851.66,-84.5428 1861.75,-75.2612\"/>\r\n",
       "<polygon fill=\"black\" stroke=\"black\" points=\"1864.32,-77.6464 1869.31,-68.2996 1859.58,-72.4953 1864.32,-77.6464\"/>\r\n",
       "</g>\r\n",
       "</g>\r\n",
       "</svg>\r\n"
      ],
      "text/plain": [
       "<graphviz.files.Source at 0x1b7ff4e6a00>"
      ]
     },
     "execution_count": 35,
     "metadata": {},
     "output_type": "execute_result"
    },
    {
     "data": {
      "image/png": "[encoded data removed]",
      "text/plain": [
       "<Figure size 576x360 with 1 Axes>"
      ]
     },
     "metadata": {},
     "output_type": "display_data"
    }
   ],
   "source": [
    "# WE CAN USE THIS CODE SNIPPET TO SEE THE TREE FORMED AND HENCE THE ATTRIBUTES USED FOR DECISION.\n",
    "\n",
    "tree.plot_tree(dt_clf)\n",
    "import graphviz \n",
    "dot_data = tree.export_graphviz(dt_clf, out_file=None, feature_names=dataframe_new.columns,  class_names=[\"0\",\"1\"],  filled=True, rounded=True,  special_characters=True)  \n",
    "graph = graphviz.Source(dot_data)  \n",
    "graph"
   ]
  },
  {
   "cell_type": "markdown",
   "id": "61f4cd95",
   "metadata": {},
   "source": [
    "# Using Logistic Regression Classifier"
   ]
  },
  {
   "cell_type": "code",
   "execution_count": 36,
   "id": "a3bccd9c",
   "metadata": {},
   "outputs": [
    {
     "data": {
      "text/plain": [
       "LogisticRegression(random_state=0)"
      ]
     },
     "execution_count": 36,
     "metadata": {},
     "output_type": "execute_result"
    }
   ],
   "source": [
    "# Can be used because it is a binary classification task.\n",
    "\n",
    "lr_clf = LogisticRegression(random_state=0)\n",
    "lr_clf"
   ]
  },
  {
   "cell_type": "code",
   "execution_count": 37,
   "id": "cb80f17b",
   "metadata": {},
   "outputs": [
    {
     "name": "stdout",
     "output_type": "stream",
     "text": [
      "\n",
      "Fold 1 : Train accuracy=  0.87  Test accuracy=  0.86\n",
      "\n",
      "Fold 2 : Train accuracy=  0.86  Test accuracy=  0.89\n",
      "\n",
      "Fold 3 : Train accuracy=  0.86  Test accuracy=  0.88\n",
      "\n",
      "Fold 4 : Train accuracy=  0.88  Test accuracy=  0.83\n",
      "\n",
      "Fold 5 : Train accuracy=  0.87  Test accuracy=  0.85\n",
      "\n",
      "Avg train accuracy=  0.87\n",
      "Avg test accuracy=  0.86\n"
     ]
    }
   ],
   "source": [
    "# train and evaluate using 5 fold cross validation.\n",
    "train_and_evaluate(lr_clf)"
   ]
  },
  {
   "cell_type": "code",
   "execution_count": 38,
   "id": "40f1d036",
   "metadata": {},
   "outputs": [
    {
     "name": "stdout",
     "output_type": "stream",
     "text": [
      "Train: matches=  601 / 688  accuracy=  0.87\n",
      "Test: matches=  195 / 230  accuracy=  0.85\n"
     ]
    }
   ],
   "source": [
    "# train and test normally using 75:25 train-test split, without 5 fold cross validation.\n",
    "\n",
    "lr_clf.fit(train_feature_array, train_labels)\n",
    "\n",
    "train_predictions=lr_clf.predict(train_feature_array)\n",
    "test_predictions=lr_clf.predict(test_feature_array)\n",
    "\n",
    "print(\"Train: \",end=\"\")\n",
    "print_accuracy(train_labels,train_predictions)\n",
    "print(\"Test: \",end=\"\")\n",
    "print_accuracy(test_labels,test_predictions)"
   ]
  },
  {
   "cell_type": "code",
   "execution_count": 39,
   "id": "e0525207",
   "metadata": {},
   "outputs": [
    {
     "data": {
      "text/plain": [
       "array([[0.95430932, 0.04569068],\n",
       "       [0.63122593, 0.36877407],\n",
       "       [0.1835755 , 0.8164245 ],\n",
       "       [0.02125058, 0.97874942],\n",
       "       [0.35853184, 0.64146816],\n",
       "       [0.79945582, 0.20054418],\n",
       "       [0.01950854, 0.98049146],\n",
       "       [0.15945688, 0.84054312],\n",
       "       [0.46822197, 0.53177803],\n",
       "       [0.75737652, 0.24262348]])"
      ]
     },
     "execution_count": 39,
     "metadata": {},
     "output_type": "execute_result"
    }
   ],
   "source": [
    "# Printing the probabilities of the made classification.\n",
    "\n",
    "lr_clf.predict_proba(test_feature_array)[:10]"
   ]
  },
  {
   "cell_type": "markdown",
   "id": "a93b1b9c",
   "metadata": {},
   "source": [
    "# KNN"
   ]
  },
  {
   "cell_type": "code",
   "execution_count": 40,
   "id": "4a164f74",
   "metadata": {},
   "outputs": [
    {
     "data": {
      "text/plain": [
       "KNeighborsClassifier(n_neighbors=10)"
      ]
     },
     "execution_count": 40,
     "metadata": {},
     "output_type": "execute_result"
    }
   ],
   "source": [
    "# we need to play with the value of k.\n",
    "\n",
    "knn_clf = KNeighborsClassifier(n_neighbors=10)  # initially 15\n",
    "knn_clf"
   ]
  },
  {
   "cell_type": "code",
   "execution_count": 491,
   "id": "3eaa76ae",
   "metadata": {},
   "outputs": [
    {
     "name": "stdout",
     "output_type": "stream",
     "text": [
      "\n",
      "Fold 1 : Train accuracy=  0.86  Test accuracy=  0.88\n",
      "\n",
      "Fold 2 : Train accuracy=  0.87  Test accuracy=  0.83\n",
      "\n",
      "Fold 3 : Train accuracy=  0.86  Test accuracy=  0.87\n",
      "\n",
      "Fold 4 : Train accuracy=  0.87  Test accuracy=  0.86\n",
      "\n",
      "Fold 5 : Train accuracy=  0.87  Test accuracy=  0.82\n",
      "\n",
      "Avg train accuracy=  0.87\n",
      "Avg test accuracy=  0.85\n"
     ]
    }
   ],
   "source": [
    "# train and evaluate using 5 fold cross validation.\n",
    "train_and_evaluate(knn_clf)"
   ]
  },
  {
   "cell_type": "code",
   "execution_count": 41,
   "id": "f35e3f87",
   "metadata": {},
   "outputs": [
    {
     "name": "stdout",
     "output_type": "stream",
     "text": [
      "Train: matches=  526 / 688  accuracy=  0.76\n",
      "Test: matches=  141 / 230  accuracy=  0.61\n"
     ]
    }
   ],
   "source": [
    "# train and test normally using 75:25 train-test split, without 5 fold cross validation.\n",
    "\n",
    "knn_clf.fit(train_feature_array, train_labels)\n",
    "\n",
    "train_predictions=knn_clf.predict(train_feature_array)\n",
    "test_predictions=knn_clf.predict(test_feature_array)\n",
    "\n",
    "print(\"Train: \",end=\"\")\n",
    "print_accuracy(train_labels,train_predictions)\n",
    "print(\"Test: \",end=\"\")\n",
    "print_accuracy(test_labels,test_predictions)"
   ]
  },
  {
   "cell_type": "code",
   "execution_count": 42,
   "id": "7aa5fa5f",
   "metadata": {},
   "outputs": [
    {
     "name": "stdout",
     "output_type": "stream",
     "text": [
      "Train accuracy 0.7645348837209303\n",
      "Test accuracy 0.6130434782608696\n"
     ]
    }
   ],
   "source": [
    "# Another way of printing accuracies:\n",
    "\n",
    "print('Train accuracy %s' % knn_clf.score(train_feature_array, train_labels))\n",
    "print('Test accuracy %s' % knn_clf.score(test_feature_array, test_labels)) "
   ]
  },
  {
   "cell_type": "code",
   "execution_count": 43,
   "id": "baa6829e",
   "metadata": {},
   "outputs": [
    {
     "name": "stdout",
     "output_type": "stream",
     "text": [
      "Test accuracy 0.6130434782608696\n",
      "[[59 36]\n",
      " [53 82]]\n",
      "              precision    recall  f1-score   support\n",
      "\n",
      "           0       0.53      0.62      0.57        95\n",
      "           1       0.69      0.61      0.65       135\n",
      "\n",
      "    accuracy                           0.61       230\n",
      "   macro avg       0.61      0.61      0.61       230\n",
      "weighted avg       0.63      0.61      0.62       230\n",
      "\n"
     ]
    }
   ],
   "source": [
    "# Printing Precision Recall and F1-score\n",
    "\n",
    "from sklearn.metrics import accuracy_score, confusion_matrix, classification_report\n",
    "print('Test accuracy %s' % accuracy_score(test_labels,test_predictions))\n",
    "print(confusion_matrix(test_labels,test_predictions)) \n",
    "print(classification_report(test_labels,test_predictions)) "
   ]
  },
  {
   "cell_type": "markdown",
   "id": "9d938be6",
   "metadata": {},
   "source": [
    "# XGBoost"
   ]
  },
  {
   "cell_type": "code",
   "execution_count": 44,
   "id": "deb87be1",
   "metadata": {},
   "outputs": [
    {
     "data": {
      "text/plain": [
       "XGBClassifier(base_score=None, booster=None, colsample_bylevel=None,\n",
       "              colsample_bynode=None, colsample_bytree=None,\n",
       "              enable_categorical=False, gamma=None, gpu_id=None,\n",
       "              importance_type=None, interaction_constraints=None,\n",
       "              learning_rate=None, max_delta_step=None, max_depth=None,\n",
       "              min_child_weight=None, missing=nan, monotone_constraints=None,\n",
       "              n_estimators=100, n_jobs=None, num_parallel_tree=None,\n",
       "              predictor=None, random_state=None, reg_alpha=None,\n",
       "              reg_lambda=None, scale_pos_weight=None, subsample=None,\n",
       "              tree_method=None, validate_parameters=None, verbosity=None)"
      ]
     },
     "execution_count": 44,
     "metadata": {},
     "output_type": "execute_result"
    }
   ],
   "source": [
    "xgb_clf = XGBClassifier()\n",
    "xgb_clf"
   ]
  },
  {
   "cell_type": "code",
   "execution_count": 45,
   "id": "178576be",
   "metadata": {},
   "outputs": [
    {
     "name": "stdout",
     "output_type": "stream",
     "text": [
      "[10:38:45] WARNING: C:/Users/Administrator/workspace/xgboost-win64_release_1.5.0/src/learner.cc:1115: Starting in XGBoost 1.3.0, the default evaluation metric used with the objective 'binary:logistic' was changed from 'error' to 'logloss'. Explicitly set eval_metric if you'd like to restore the old behavior.\n",
      "\n",
      "Fold 1 : Train accuracy=  1.0  Test accuracy=  0.89\n",
      "[10:38:46] WARNING: C:/Users/Administrator/workspace/xgboost-win64_release_1.5.0/src/learner.cc:1115: Starting in XGBoost 1.3.0, the default evaluation metric used with the objective 'binary:logistic' was changed from 'error' to 'logloss'. Explicitly set eval_metric if you'd like to restore the old behavior.\n",
      "\n",
      "Fold 2 : Train accuracy=  1.0  Test accuracy=  0.84\n",
      "[10:38:46] WARNING: C:/Users/Administrator/workspace/xgboost-win64_release_1.5.0/src/learner.cc:1115: Starting in XGBoost 1.3.0, the default evaluation metric used with the objective 'binary:logistic' was changed from 'error' to 'logloss'. Explicitly set eval_metric if you'd like to restore the old behavior.\n",
      "\n",
      "Fold 3 : Train accuracy=  1.0  Test accuracy=  0.85\n",
      "[10:38:46] WARNING: C:/Users/Administrator/workspace/xgboost-win64_release_1.5.0/src/learner.cc:1115: Starting in XGBoost 1.3.0, the default evaluation metric used with the objective 'binary:logistic' was changed from 'error' to 'logloss'. Explicitly set eval_metric if you'd like to restore the old behavior.\n",
      "\n",
      "Fold 4 : Train accuracy=  1.0  Test accuracy=  0.85\n",
      "[10:38:46] WARNING: C:/Users/Administrator/workspace/xgboost-win64_release_1.5.0/src/learner.cc:1115: Starting in XGBoost 1.3.0, the default evaluation metric used with the objective 'binary:logistic' was changed from 'error' to 'logloss'. Explicitly set eval_metric if you'd like to restore the old behavior.\n",
      "\n",
      "Fold 5 : Train accuracy=  1.0  Test accuracy=  0.84\n",
      "\n",
      "Avg train accuracy=  1.0\n",
      "Avg test accuracy=  0.85\n"
     ]
    }
   ],
   "source": [
    "# train and evaluate using 5 fold cross validation.\n",
    "train_and_evaluate(xgb_clf)"
   ]
  },
  {
   "cell_type": "code",
   "execution_count": 46,
   "id": "667a7b51",
   "metadata": {},
   "outputs": [
    {
     "name": "stdout",
     "output_type": "stream",
     "text": [
      "[10:38:48] WARNING: C:/Users/Administrator/workspace/xgboost-win64_release_1.5.0/src/learner.cc:1115: Starting in XGBoost 1.3.0, the default evaluation metric used with the objective 'binary:logistic' was changed from 'error' to 'logloss'. Explicitly set eval_metric if you'd like to restore the old behavior.\n",
      "Train: matches=  688 / 688  accuracy=  1.0\n",
      "Test: matches=  195 / 230  accuracy=  0.85\n"
     ]
    }
   ],
   "source": [
    "# train and test normally using 75:25 train-test split, without 5 fold cross validation.\n",
    "\n",
    "xgb_clf.fit(train_feature_array, train_labels)\n",
    "\n",
    "train_predictions=xgb_clf.predict(train_feature_array)\n",
    "test_predictions=xgb_clf.predict(test_feature_array)\n",
    "\n",
    "print(\"Train: \",end=\"\")\n",
    "print_accuracy(train_labels,train_predictions)\n",
    "print(\"Test: \",end=\"\")\n",
    "print_accuracy(test_labels,test_predictions)"
   ]
  },
  {
   "cell_type": "code",
   "execution_count": 47,
   "id": "9cb9134c",
   "metadata": {},
   "outputs": [
    {
     "data": {
      "text/plain": [
       "array([[9.9849123e-01, 1.5087475e-03],\n",
       "       [1.0787952e-01, 8.9212048e-01],\n",
       "       [7.5822771e-01, 2.4177229e-01],\n",
       "       [4.7802925e-04, 9.9952197e-01],\n",
       "       [4.8453629e-01, 5.1546371e-01],\n",
       "       [9.8215550e-01, 1.7844483e-02],\n",
       "       [9.5957518e-04, 9.9904042e-01],\n",
       "       [5.4365396e-04, 9.9945635e-01],\n",
       "       [9.3795550e-01, 6.2044516e-02],\n",
       "       [5.1445687e-01, 4.8554310e-01]], dtype=float32)"
      ]
     },
     "execution_count": 47,
     "metadata": {},
     "output_type": "execute_result"
    }
   ],
   "source": [
    "# Printing the probabilities of the made classification.\n",
    "\n",
    "xgb_clf.predict_proba(test_feature_array)[:10]"
   ]
  },
  {
   "cell_type": "code",
   "execution_count": 48,
   "id": "8f245e21",
   "metadata": {},
   "outputs": [
    {
     "data": {
      "text/plain": [
       "<AxesSubplot:title={'center':'Feature importance'}, xlabel='F score', ylabel='Features'>"
      ]
     },
     "execution_count": 48,
     "metadata": {},
     "output_type": "execute_result"
    },
    {
     "data": {
      "image/png": "[encoded data removed]",
      "text/plain": [
       "<Figure size 576x360 with 1 Axes>"
      ]
     },
     "metadata": {},
     "output_type": "display_data"
    }
   ],
   "source": [
    "# Printing the importancce of features while making classification.\n",
    "\n",
    "plot_importance(xgb_clf)"
   ]
  },
  {
   "cell_type": "markdown",
   "id": "6c4b7beb",
   "metadata": {},
   "source": [
    "# Optuna\n",
    "## using optuna for hyperparameter Tuning.\n",
    "\n",
    "In the objective function we can uncomment the parameters for the algorithm we want to claffisy with. Also uncomment the definition of the algorithm also. Keep everything else commented out. Run the \"Run Optuna\" cell for starting optuna."
   ]
  },
  {
   "cell_type": "code",
   "execution_count": 49,
   "id": "a130531a",
   "metadata": {},
   "outputs": [],
   "source": [
    "def objective(trial):\n",
    "    n_estimators = trial.suggest_int('n_estimators', 1, 50)\n",
    "    max_depth = int(trial.suggest_loguniform('max_depth', 1, 30))\n",
    "    \n",
    "    #kernel = trial.suggest_categorical('kernel',['linear','rbf','poly','sigmoid','precomputed'])\n",
    "    #C = trial.suggest_int('C', 0, 5)\n",
    "    #degree = trial.suggest_int('degree', 1, 25)\n",
    "    \n",
    "    #solver = trial.suggest_categorical('solver',['newton-cg', 'lbfgs', 'liblinear', 'sag', 'saga'])\n",
    "    \n",
    "    #n_neighbors = trial.suggest_int('n_neighbors', 1, 100)\n",
    "    #weights = trial.suggest_categorical('weights',['uniform','distance'])\n",
    "    #algorithm = trial.suggest_categorical('algorithm',['auto','ball_tree','kd_tree','brute'])\n",
    "    \n",
    "#     n_estimators = trial.suggest_int('n_estimators', 1, 100)\n",
    "#     max_depth = int(trial.suggest_loguniform('max_depth', 1, 30))\n",
    "#     #learning_rate = trial.suggest_float('learning_rate', 0, 1)\n",
    "#     booster = trial.suggest_categorical('booster',['gbtree', 'gblinear', 'dart'])\n",
    "#     tree_method = trial.suggest_categorical('tree_method',['exact', 'approx', 'hist'])\n",
    "#     n_jobs = trial.suggest_int('n_jobs', 1, 10)\n",
    "    \n",
    "    rf_cls = RandomForestClassifier(n_estimators=n_estimators, max_depth=max_depth, random_state=5)\n",
    "    #dt_cls = tree.DecisionTreeClassifier(max_depth=max_depth,random_state=None,splitter='random')\n",
    "    #cls = SVC(kernel=kernel, C=C, degree=degree, random_state=None)\n",
    "    #lr_cls = LogisticRegression(solver=solver, random_state=None)\n",
    "    #knn_cls = KNeighborsClassifier(n_neighbors=n_neighbors, weights=weights, algorithm=algorithm)\n",
    "    #xgb_cls = XGBClassifier(n_estimators=n_estimators, max_depth=max_depth, booster=booster, tree_method=tree_method, n_jobs=n_jobs)\n",
    "    return tnv(rf_cls)"
   ]
  },
  {
   "cell_type": "code",
   "execution_count": 50,
   "id": "d06ff424",
   "metadata": {},
   "outputs": [
    {
     "name": "stderr",
     "output_type": "stream",
     "text": [
      "\u001b[32m[I 2021-11-25 10:20:44,321]\u001b[0m A new study created in memory with name: no-name-fa5f97c1-3cb9-47f2-bc70-936f11f8d7e6\u001b[0m\n",
      "\u001b[32m[I 2021-11-25 10:20:44,522]\u001b[0m Trial 0 finished with value: 0.87 and parameters: {'n_estimators': 15, 'max_depth': 18.320442352105893}. Best is trial 0 with value: 0.87.\u001b[0m\n",
      "\u001b[32m[I 2021-11-25 10:20:44,643]\u001b[0m Trial 1 finished with value: 0.84 and parameters: {'n_estimators': 10, 'max_depth': 13.899344929208976}. Best is trial 0 with value: 0.87.\u001b[0m\n",
      "\u001b[32m[I 2021-11-25 10:20:44,950]\u001b[0m Trial 2 finished with value: 0.86 and parameters: {'n_estimators': 32, 'max_depth': 7.868237904618494}. Best is trial 0 with value: 0.87.\u001b[0m\n",
      "\u001b[32m[I 2021-11-25 10:20:45,242]\u001b[0m Trial 3 finished with value: 0.85 and parameters: {'n_estimators': 24, 'max_depth': 14.473802940601178}. Best is trial 0 with value: 0.87.\u001b[0m\n",
      "\u001b[32m[I 2021-11-25 10:20:45,557]\u001b[0m Trial 4 finished with value: 0.85 and parameters: {'n_estimators': 36, 'max_depth': 3.795190896238109}. Best is trial 0 with value: 0.87.\u001b[0m\n",
      "\u001b[32m[I 2021-11-25 10:20:45,977]\u001b[0m Trial 5 finished with value: 0.86 and parameters: {'n_estimators': 42, 'max_depth': 7.31178617788851}. Best is trial 0 with value: 0.87.\u001b[0m\n",
      "\u001b[32m[I 2021-11-25 10:20:46,162]\u001b[0m Trial 6 finished with value: 0.86 and parameters: {'n_estimators': 21, 'max_depth': 3.2551135523598993}. Best is trial 0 with value: 0.87.\u001b[0m\n",
      "\u001b[32m[I 2021-11-25 10:20:46,552]\u001b[0m Trial 7 finished with value: 0.87 and parameters: {'n_estimators': 39, 'max_depth': 28.30839385546647}. Best is trial 0 with value: 0.87.\u001b[0m\n",
      "\u001b[32m[I 2021-11-25 10:20:46,658]\u001b[0m Trial 8 finished with value: 0.83 and parameters: {'n_estimators': 10, 'max_depth': 1.6085921382553279}. Best is trial 0 with value: 0.87.\u001b[0m\n",
      "\u001b[32m[I 2021-11-25 10:20:46,751]\u001b[0m Trial 9 finished with value: 0.85 and parameters: {'n_estimators': 8, 'max_depth': 4.449946442377355}. Best is trial 0 with value: 0.87.\u001b[0m\n",
      "\u001b[32m[I 2021-11-25 10:20:46,842]\u001b[0m Trial 10 finished with value: 0.77 and parameters: {'n_estimators': 1, 'max_depth': 28.927857361928645}. Best is trial 0 with value: 0.87.\u001b[0m\n",
      "\u001b[32m[I 2021-11-25 10:20:47,310]\u001b[0m Trial 11 finished with value: 0.87 and parameters: {'n_estimators': 47, 'max_depth': 28.745231296549854}. Best is trial 0 with value: 0.87.\u001b[0m\n",
      "\u001b[32m[I 2021-11-25 10:20:47,521]\u001b[0m Trial 12 finished with value: 0.85 and parameters: {'n_estimators': 18, 'max_depth': 15.594960713644193}. Best is trial 0 with value: 0.87.\u001b[0m\n",
      "\u001b[32m[I 2021-11-25 10:20:47,909]\u001b[0m Trial 13 finished with value: 0.86 and parameters: {'n_estimators': 33, 'max_depth': 20.547308705736185}. Best is trial 0 with value: 0.87.\u001b[0m\n",
      "\u001b[32m[I 2021-11-25 10:20:48,420]\u001b[0m Trial 14 finished with value: 0.86 and parameters: {'n_estimators': 50, 'max_depth': 8.147133678346265}. Best is trial 0 with value: 0.87.\u001b[0m\n",
      "\u001b[32m[I 2021-11-25 10:20:48,594]\u001b[0m Trial 15 finished with value: 0.83 and parameters: {'n_estimators': 17, 'max_depth': 1.0773381470734957}. Best is trial 0 with value: 0.87.\u001b[0m\n",
      "\u001b[32m[I 2021-11-25 10:20:48,958]\u001b[0m Trial 16 finished with value: 0.87 and parameters: {'n_estimators': 30, 'max_depth': 20.427458225521075}. Best is trial 0 with value: 0.87.\u001b[0m\n",
      "\u001b[32m[I 2021-11-25 10:20:49,505]\u001b[0m Trial 17 finished with value: 0.86 and parameters: {'n_estimators': 50, 'max_depth': 11.262841038642712}. Best is trial 0 with value: 0.87.\u001b[0m\n",
      "\u001b[32m[I 2021-11-25 10:20:49,881]\u001b[0m Trial 18 finished with value: 0.85 and parameters: {'n_estimators': 45, 'max_depth': 2.4801985751538407}. Best is trial 0 with value: 0.87.\u001b[0m\n",
      "\u001b[32m[I 2021-11-25 10:20:50,218]\u001b[0m Trial 19 finished with value: 0.86 and parameters: {'n_estimators': 28, 'max_depth': 18.974955581452427}. Best is trial 0 with value: 0.87.\u001b[0m\n",
      "\u001b[32m[I 2021-11-25 10:20:50,389]\u001b[0m Trial 20 finished with value: 0.86 and parameters: {'n_estimators': 15, 'max_depth': 9.270366055314735}. Best is trial 0 with value: 0.87.\u001b[0m\n",
      "\u001b[32m[I 2021-11-25 10:20:50,675]\u001b[0m Trial 21 finished with value: 0.85 and parameters: {'n_estimators': 27, 'max_depth': 22.61185717090478}. Best is trial 0 with value: 0.87.\u001b[0m\n",
      "\u001b[32m[I 2021-11-25 10:20:51,076]\u001b[0m Trial 22 finished with value: 0.86 and parameters: {'n_estimators': 37, 'max_depth': 29.710847856852812}. Best is trial 0 with value: 0.87.\u001b[0m\n",
      "\u001b[32m[I 2021-11-25 10:20:51,505]\u001b[0m Trial 23 finished with value: 0.86 and parameters: {'n_estimators': 40, 'max_depth': 20.524203124479758}. Best is trial 0 with value: 0.87.\u001b[0m\n",
      "\u001b[32m[I 2021-11-25 10:20:51,823]\u001b[0m Trial 24 finished with value: 0.86 and parameters: {'n_estimators': 31, 'max_depth': 11.755304929253567}. Best is trial 0 with value: 0.87.\u001b[0m\n",
      "\u001b[32m[I 2021-11-25 10:20:52,055]\u001b[0m Trial 25 finished with value: 0.87 and parameters: {'n_estimators': 23, 'max_depth': 6.034826356695007}. Best is trial 0 with value: 0.87.\u001b[0m\n",
      "\u001b[32m[I 2021-11-25 10:20:52,505]\u001b[0m Trial 26 finished with value: 0.88 and parameters: {'n_estimators': 45, 'max_depth': 18.596436255867754}. Best is trial 26 with value: 0.88.\u001b[0m\n",
      "\u001b[32m[I 2021-11-25 10:20:52,736]\u001b[0m Trial 27 finished with value: 0.85 and parameters: {'n_estimators': 24, 'max_depth': 5.921555413099063}. Best is trial 26 with value: 0.88.\u001b[0m\n",
      "\u001b[32m[I 2021-11-25 10:20:52,882]\u001b[0m Trial 28 finished with value: 0.86 and parameters: {'n_estimators': 14, 'max_depth': 5.5404733039268255}. Best is trial 26 with value: 0.88.\u001b[0m\n",
      "\u001b[32m[I 2021-11-25 10:20:52,981]\u001b[0m Trial 29 finished with value: 0.83 and parameters: {'n_estimators': 9, 'max_depth': 2.219435942927185}. Best is trial 26 with value: 0.88.\u001b[0m\n",
      "\u001b[32m[I 2021-11-25 10:20:53,208]\u001b[0m Trial 30 finished with value: 0.85 and parameters: {'n_estimators': 21, 'max_depth': 11.65257623299769}. Best is trial 26 with value: 0.88.\u001b[0m\n",
      "\u001b[32m[I 2021-11-25 10:20:53,643]\u001b[0m Trial 31 finished with value: 0.86 and parameters: {'n_estimators': 40, 'max_depth': 17.421686228754147}. Best is trial 26 with value: 0.88.\u001b[0m\n",
      "\u001b[32m[I 2021-11-25 10:20:54,093]\u001b[0m Trial 32 finished with value: 0.87 and parameters: {'n_estimators': 45, 'max_depth': 13.671843877850097}. Best is trial 26 with value: 0.88.\u001b[0m\n",
      "\u001b[32m[I 2021-11-25 10:20:54,556]\u001b[0m Trial 33 finished with value: 0.86 and parameters: {'n_estimators': 45, 'max_depth': 24.224096879983538}. Best is trial 26 with value: 0.88.\u001b[0m\n",
      "\u001b[32m[I 2021-11-25 10:20:54,930]\u001b[0m Trial 34 finished with value: 0.88 and parameters: {'n_estimators': 35, 'max_depth': 13.812328289041503}. Best is trial 26 with value: 0.88.\u001b[0m\n",
      "\u001b[32m[I 2021-11-25 10:20:55,343]\u001b[0m Trial 35 finished with value: 0.87 and parameters: {'n_estimators': 35, 'max_depth': 12.673470146324052}. Best is trial 26 with value: 0.88.\u001b[0m\n",
      "\u001b[32m[I 2021-11-25 10:20:55,781]\u001b[0m Trial 36 finished with value: 0.87 and parameters: {'n_estimators': 42, 'max_depth': 15.3423695017586}. Best is trial 26 with value: 0.88.\u001b[0m\n",
      "\u001b[32m[I 2021-11-25 10:20:56,238]\u001b[0m Trial 37 finished with value: 0.87 and parameters: {'n_estimators': 46, 'max_depth': 9.377434600366547}. Best is trial 26 with value: 0.88.\u001b[0m\n",
      "\u001b[32m[I 2021-11-25 10:20:56,637]\u001b[0m Trial 38 finished with value: 0.86 and parameters: {'n_estimators': 34, 'max_depth': 13.038309076112483}. Best is trial 26 with value: 0.88.\u001b[0m\n",
      "\u001b[32m[I 2021-11-25 10:20:57,126]\u001b[0m Trial 39 finished with value: 0.86 and parameters: {'n_estimators': 47, 'max_depth': 24.10534395886355}. Best is trial 26 with value: 0.88.\u001b[0m\n",
      "\u001b[32m[I 2021-11-25 10:20:57,207]\u001b[0m Trial 40 finished with value: 0.84 and parameters: {'n_estimators': 5, 'max_depth': 10.149837864955462}. Best is trial 26 with value: 0.88.\u001b[0m\n",
      "\u001b[32m[I 2021-11-25 10:20:57,500]\u001b[0m Trial 41 finished with value: 0.86 and parameters: {'n_estimators': 29, 'max_depth': 8.458088578272967}. Best is trial 26 with value: 0.88.\u001b[0m\n",
      "\u001b[32m[I 2021-11-25 10:20:57,713]\u001b[0m Trial 42 finished with value: 0.86 and parameters: {'n_estimators': 21, 'max_depth': 6.551444778964693}. Best is trial 26 with value: 0.88.\u001b[0m\n",
      "\u001b[32m[I 2021-11-25 10:20:58,025]\u001b[0m Trial 43 finished with value: 0.86 and parameters: {'n_estimators': 30, 'max_depth': 16.918729410377193}. Best is trial 26 with value: 0.88.\u001b[0m\n",
      "\u001b[32m[I 2021-11-25 10:20:58,362]\u001b[0m Trial 44 finished with value: 0.85 and parameters: {'n_estimators': 37, 'max_depth': 3.5189095677126527}. Best is trial 26 with value: 0.88.\u001b[0m\n"
     ]
    },
    {
     "name": "stderr",
     "output_type": "stream",
     "text": [
      "\u001b[32m[I 2021-11-25 10:20:58,606]\u001b[0m Trial 45 finished with value: 0.86 and parameters: {'n_estimators': 25, 'max_depth': 4.7795401711982874}. Best is trial 26 with value: 0.88.\u001b[0m\n",
      "\u001b[32m[I 2021-11-25 10:20:59,039]\u001b[0m Trial 46 finished with value: 0.86 and parameters: {'n_estimators': 43, 'max_depth': 15.398469518242283}. Best is trial 26 with value: 0.88.\u001b[0m\n",
      "\u001b[32m[I 2021-11-25 10:20:59,335]\u001b[0m Trial 47 finished with value: 0.86 and parameters: {'n_estimators': 27, 'max_depth': 14.345488367442227}. Best is trial 26 with value: 0.88.\u001b[0m\n",
      "\u001b[32m[I 2021-11-25 10:20:59,477]\u001b[0m Trial 48 finished with value: 0.84 and parameters: {'n_estimators': 12, 'max_depth': 25.196915080982077}. Best is trial 26 with value: 0.88.\u001b[0m\n",
      "\u001b[32m[I 2021-11-25 10:20:59,726]\u001b[0m Trial 49 finished with value: 0.86 and parameters: {'n_estimators': 22, 'max_depth': 18.99822708761005}. Best is trial 26 with value: 0.88.\u001b[0m\n",
      "\u001b[32m[I 2021-11-25 10:21:00,173]\u001b[0m Trial 50 finished with value: 0.87 and parameters: {'n_estimators': 38, 'max_depth': 21.201677295055045}. Best is trial 26 with value: 0.88.\u001b[0m\n",
      "\u001b[32m[I 2021-11-25 10:21:00,584]\u001b[0m Trial 51 finished with value: 0.87 and parameters: {'n_estimators': 42, 'max_depth': 7.337825461296796}. Best is trial 26 with value: 0.88.\u001b[0m\n",
      "\u001b[32m[I 2021-11-25 10:21:00,951]\u001b[0m Trial 52 finished with value: 0.87 and parameters: {'n_estimators': 35, 'max_depth': 12.603779198423384}. Best is trial 26 with value: 0.88.\u001b[0m\n",
      "\u001b[32m[I 2021-11-25 10:21:01,369]\u001b[0m Trial 53 finished with value: 0.86 and parameters: {'n_estimators': 39, 'max_depth': 10.419446425625274}. Best is trial 26 with value: 0.88.\u001b[0m\n",
      "\u001b[32m[I 2021-11-25 10:21:01,824]\u001b[0m Trial 54 finished with value: 0.87 and parameters: {'n_estimators': 42, 'max_depth': 9.078462985823894}. Best is trial 26 with value: 0.88.\u001b[0m\n",
      "\u001b[32m[I 2021-11-25 10:21:02,218]\u001b[0m Trial 55 finished with value: 0.87 and parameters: {'n_estimators': 33, 'max_depth': 16.91982231117778}. Best is trial 26 with value: 0.88.\u001b[0m\n",
      "\u001b[32m[I 2021-11-25 10:21:02,658]\u001b[0m Trial 56 finished with value: 0.86 and parameters: {'n_estimators': 38, 'max_depth': 20.981269949855843}. Best is trial 26 with value: 0.88.\u001b[0m\n",
      "\u001b[32m[I 2021-11-25 10:21:02,893]\u001b[0m Trial 57 finished with value: 0.86 and parameters: {'n_estimators': 18, 'max_depth': 14.41257422237228}. Best is trial 26 with value: 0.88.\u001b[0m\n",
      "\u001b[32m[I 2021-11-25 10:21:03,443]\u001b[0m Trial 58 finished with value: 0.87 and parameters: {'n_estimators': 47, 'max_depth': 9.948408196615286}. Best is trial 26 with value: 0.88.\u001b[0m\n",
      "\u001b[32m[I 2021-11-25 10:21:03,824]\u001b[0m Trial 59 finished with value: 0.87 and parameters: {'n_estimators': 32, 'max_depth': 17.14537838706876}. Best is trial 26 with value: 0.88.\u001b[0m\n",
      "\u001b[32m[I 2021-11-25 10:21:04,217]\u001b[0m Trial 60 finished with value: 0.86 and parameters: {'n_estimators': 34, 'max_depth': 17.96517504203185}. Best is trial 26 with value: 0.88.\u001b[0m\n",
      "\u001b[32m[I 2021-11-25 10:21:04,695]\u001b[0m Trial 61 finished with value: 0.86 and parameters: {'n_estimators': 49, 'max_depth': 4.457976432298317}. Best is trial 26 with value: 0.88.\u001b[0m\n",
      "\u001b[32m[I 2021-11-25 10:21:05,176]\u001b[0m Trial 62 finished with value: 0.87 and parameters: {'n_estimators': 44, 'max_depth': 6.34617996718747}. Best is trial 26 with value: 0.88.\u001b[0m\n",
      "\u001b[32m[I 2021-11-25 10:21:05,715]\u001b[0m Trial 63 finished with value: 0.87 and parameters: {'n_estimators': 48, 'max_depth': 16.604756070524278}. Best is trial 26 with value: 0.88.\u001b[0m\n",
      "\u001b[32m[I 2021-11-25 10:21:06,038]\u001b[0m Trial 64 finished with value: 0.87 and parameters: {'n_estimators': 32, 'max_depth': 9.013351776225127}. Best is trial 26 with value: 0.88.\u001b[0m\n",
      "\u001b[32m[I 2021-11-25 10:21:06,517]\u001b[0m Trial 65 finished with value: 0.87 and parameters: {'n_estimators': 43, 'max_depth': 10.983621408428538}. Best is trial 26 with value: 0.88.\u001b[0m\n",
      "\u001b[32m[I 2021-11-25 10:21:06,922]\u001b[0m Trial 66 finished with value: 0.86 and parameters: {'n_estimators': 37, 'max_depth': 12.419252110266196}. Best is trial 26 with value: 0.88.\u001b[0m\n",
      "\u001b[32m[I 2021-11-25 10:21:07,467]\u001b[0m Trial 67 finished with value: 0.86 and parameters: {'n_estimators': 45, 'max_depth': 14.701479290401318}. Best is trial 26 with value: 0.88.\u001b[0m\n",
      "\u001b[32m[I 2021-11-25 10:21:07,959]\u001b[0m Trial 68 finished with value: 0.88 and parameters: {'n_estimators': 46, 'max_depth': 8.07446284689659}. Best is trial 26 with value: 0.88.\u001b[0m\n",
      "\u001b[32m[I 2021-11-25 10:21:08,478]\u001b[0m Trial 69 finished with value: 0.86 and parameters: {'n_estimators': 49, 'max_depth': 7.545240914671103}. Best is trial 26 with value: 0.88.\u001b[0m\n",
      "\u001b[32m[I 2021-11-25 10:21:08,920]\u001b[0m Trial 70 finished with value: 0.86 and parameters: {'n_estimators': 41, 'max_depth': 13.33960916915033}. Best is trial 26 with value: 0.88.\u001b[0m\n",
      "\u001b[32m[I 2021-11-25 10:21:09,420]\u001b[0m Trial 71 finished with value: 0.86 and parameters: {'n_estimators': 46, 'max_depth': 24.94624148022846}. Best is trial 26 with value: 0.88.\u001b[0m\n",
      "\u001b[32m[I 2021-11-25 10:21:09,849]\u001b[0m Trial 72 finished with value: 0.87 and parameters: {'n_estimators': 40, 'max_depth': 21.714420155681413}. Best is trial 26 with value: 0.88.\u001b[0m\n",
      "\u001b[32m[I 2021-11-25 10:21:10,412]\u001b[0m Trial 73 finished with value: 0.87 and parameters: {'n_estimators': 50, 'max_depth': 26.879192272402975}. Best is trial 26 with value: 0.88.\u001b[0m\n",
      "\u001b[32m[I 2021-11-25 10:21:10,897]\u001b[0m Trial 74 finished with value: 0.86 and parameters: {'n_estimators': 45, 'max_depth': 12.201043694226291}. Best is trial 26 with value: 0.88.\u001b[0m\n",
      "\u001b[32m[I 2021-11-25 10:21:11,428]\u001b[0m Trial 75 finished with value: 0.86 and parameters: {'n_estimators': 50, 'max_depth': 15.760831985327231}. Best is trial 26 with value: 0.88.\u001b[0m\n",
      "\u001b[32m[I 2021-11-25 10:21:11,833]\u001b[0m Trial 76 finished with value: 0.86 and parameters: {'n_estimators': 36, 'max_depth': 19.018398096681477}. Best is trial 26 with value: 0.88.\u001b[0m\n",
      "\u001b[32m[I 2021-11-25 10:21:12,323]\u001b[0m Trial 77 finished with value: 0.86 and parameters: {'n_estimators': 47, 'max_depth': 8.24515343361888}. Best is trial 26 with value: 0.88.\u001b[0m\n",
      "\u001b[32m[I 2021-11-25 10:21:12,396]\u001b[0m Trial 78 finished with value: 0.81 and parameters: {'n_estimators': 4, 'max_depth': 13.633281944366185}. Best is trial 26 with value: 0.88.\u001b[0m\n",
      "\u001b[32m[I 2021-11-25 10:21:12,626]\u001b[0m Trial 79 finished with value: 0.86 and parameters: {'n_estimators': 19, 'max_depth': 6.920429811026498}. Best is trial 26 with value: 0.88.\u001b[0m\n",
      "\u001b[32m[I 2021-11-25 10:21:12,815]\u001b[0m Trial 80 finished with value: 0.87 and parameters: {'n_estimators': 15, 'max_depth': 9.642833102168634}. Best is trial 26 with value: 0.88.\u001b[0m\n",
      "\u001b[32m[I 2021-11-25 10:21:13,302]\u001b[0m Trial 81 finished with value: 0.86 and parameters: {'n_estimators': 43, 'max_depth': 15.143278017546306}. Best is trial 26 with value: 0.88.\u001b[0m\n",
      "\u001b[32m[I 2021-11-25 10:21:13,778]\u001b[0m Trial 82 finished with value: 0.86 and parameters: {'n_estimators': 48, 'max_depth': 6.347489251413615}. Best is trial 26 with value: 0.88.\u001b[0m\n",
      "\u001b[32m[I 2021-11-25 10:21:14,205]\u001b[0m Trial 83 finished with value: 0.87 and parameters: {'n_estimators': 44, 'max_depth': 5.059770703471049}. Best is trial 26 with value: 0.88.\u001b[0m\n",
      "\u001b[32m[I 2021-11-25 10:21:14,658]\u001b[0m Trial 84 finished with value: 0.86 and parameters: {'n_estimators': 41, 'max_depth': 19.570441920015906}. Best is trial 26 with value: 0.88.\u001b[0m\n",
      "\u001b[32m[I 2021-11-25 10:21:14,918]\u001b[0m Trial 85 finished with value: 0.86 and parameters: {'n_estimators': 24, 'max_depth': 5.338756269863618}. Best is trial 26 with value: 0.88.\u001b[0m\n",
      "\u001b[32m[I 2021-11-25 10:21:15,321]\u001b[0m Trial 86 finished with value: 0.86 and parameters: {'n_estimators': 33, 'max_depth': 9.07648766532371}. Best is trial 26 with value: 0.88.\u001b[0m\n",
      "\u001b[32m[I 2021-11-25 10:21:15,706]\u001b[0m Trial 87 finished with value: 0.87 and parameters: {'n_estimators': 35, 'max_depth': 10.841070539713552}. Best is trial 26 with value: 0.88.\u001b[0m\n",
      "\u001b[32m[I 2021-11-25 10:21:16,140]\u001b[0m Trial 88 finished with value: 0.85 and parameters: {'n_estimators': 39, 'max_depth': 11.614111701518823}. Best is trial 26 with value: 0.88.\u001b[0m\n",
      "\u001b[32m[I 2021-11-25 10:21:16,584]\u001b[0m Trial 89 finished with value: 0.85 and parameters: {'n_estimators': 41, 'max_depth': 25.53070852759428}. Best is trial 26 with value: 0.88.\u001b[0m\n",
      "\u001b[32m[I 2021-11-25 10:21:17,079]\u001b[0m Trial 90 finished with value: 0.87 and parameters: {'n_estimators': 45, 'max_depth': 22.98499386574688}. Best is trial 26 with value: 0.88.\u001b[0m\n"
     ]
    },
    {
     "name": "stderr",
     "output_type": "stream",
     "text": [
      "\u001b[32m[I 2021-11-25 10:21:17,534]\u001b[0m Trial 91 finished with value: 0.86 and parameters: {'n_estimators': 42, 'max_depth': 13.545079981505179}. Best is trial 26 with value: 0.88.\u001b[0m\n",
      "\u001b[32m[I 2021-11-25 10:21:17,974]\u001b[0m Trial 92 finished with value: 0.86 and parameters: {'n_estimators': 44, 'max_depth': 5.857605841070124}. Best is trial 26 with value: 0.88.\u001b[0m\n",
      "\u001b[32m[I 2021-11-25 10:21:18,308]\u001b[0m Trial 93 finished with value: 0.86 and parameters: {'n_estimators': 31, 'max_depth': 7.671126439521789}. Best is trial 26 with value: 0.88.\u001b[0m\n",
      "\u001b[32m[I 2021-11-25 10:21:18,819]\u001b[0m Trial 94 finished with value: 0.86 and parameters: {'n_estimators': 47, 'max_depth': 10.063222040877362}. Best is trial 26 with value: 0.88.\u001b[0m\n",
      "\u001b[32m[I 2021-11-25 10:21:19,335]\u001b[0m Trial 95 finished with value: 0.86 and parameters: {'n_estimators': 48, 'max_depth': 10.811073273409502}. Best is trial 26 with value: 0.88.\u001b[0m\n",
      "\u001b[32m[I 2021-11-25 10:21:19,740]\u001b[0m Trial 96 finished with value: 0.85 and parameters: {'n_estimators': 36, 'max_depth': 17.98426150822014}. Best is trial 26 with value: 0.88.\u001b[0m\n",
      "\u001b[32m[I 2021-11-25 10:21:19,926]\u001b[0m Trial 97 finished with value: 0.86 and parameters: {'n_estimators': 16, 'max_depth': 5.1712724124712315}. Best is trial 26 with value: 0.88.\u001b[0m\n",
      "\u001b[32m[I 2021-11-25 10:21:20,395]\u001b[0m Trial 98 finished with value: 0.86 and parameters: {'n_estimators': 42, 'max_depth': 7.26035018034204}. Best is trial 26 with value: 0.88.\u001b[0m\n",
      "\u001b[32m[I 2021-11-25 10:21:20,843]\u001b[0m Trial 99 finished with value: 0.87 and parameters: {'n_estimators': 43, 'max_depth': 8.569549857093872}. Best is trial 26 with value: 0.88.\u001b[0m\n"
     ]
    },
    {
     "name": "stdout",
     "output_type": "stream",
     "text": [
      "Number of finished trials: 100\n",
      "Best trial:\n",
      "  Value: 0.88\n",
      "  Params: \n",
      "    n_estimators: 45\n",
      "    max_depth: 18.596436255867754\n"
     ]
    }
   ],
   "source": [
    "# Run Optuna\n",
    "\n",
    "study = optuna.create_study(direction=\"maximize\")\n",
    "study.optimize(objective, n_trials=100, timeout=300)\n",
    "\n",
    "print(\"Number of finished trials: {}\".format(len(study.trials)))\n",
    "\n",
    "print(\"Best trial:\")\n",
    "trial = study.best_trial\n",
    "\n",
    "print(\"  Value: {}\".format(trial.value))\n",
    "\n",
    "print(\"  Params: \")\n",
    "for key, value in trial.params.items():\n",
    "    print(\"    {}: {}\".format(key, value))"
   ]
  },
  {
   "cell_type": "code",
   "execution_count": 51,
   "id": "d754efad",
   "metadata": {},
   "outputs": [],
   "source": [
    "# import plotly\n",
    "# optuna.visualization.plot_optimization_history(study)\n",
    "# optuna.visualization.plot_slice(study)"
   ]
  },
  {
   "cell_type": "markdown",
   "id": "49362684",
   "metadata": {},
   "source": [
    "## Demo of the running application\n",
    "This is the prediction application's back-end. Get the values of patient's test reports and fill in the variables an then\n",
    "call the function \"predict_heart_disease\". The function will print whether the patient have heart disease or not alond with\n",
    "the chances of disease."
   ]
  },
  {
   "cell_type": "code",
   "execution_count": 52,
   "id": "e24329ba",
   "metadata": {},
   "outputs": [],
   "source": [
    "#imports and function definitions:\n",
    "\n",
    "import joblib\n",
    "from sklearn.ensemble import RandomForestClassifier\n",
    "import pandas as pd\n",
    "import numpy as np\n",
    "\n",
    "def predict_heart_disease(reports):\n",
    "    Age=reports[0][0]\n",
    "    RestingBP=reports[0][3]\n",
    "    Cholesterol=reports[0][4]\n",
    "    FastingBS=reports[0][5]\n",
    "    MaxHR=reports[0][7]\n",
    "    Oldpeak=reports[0][9]\n",
    "    Sex_F=0\n",
    "    Sex_M=0\n",
    "    ChestPainType_ASY=0\n",
    "    ChestPainType_ATA=0\n",
    "    ChestPainType_NAP=0\n",
    "    ChestPainType_TA=0\n",
    "    RestingECG_LVH=0\n",
    "    RestingECG_Normal=0\n",
    "    RestingECG_ST=0\n",
    "    ExerciseAngina_N=0\n",
    "    ExerciseAngina_Y=0\n",
    "    ST_Slope_Down=0\n",
    "    ST_Slope_Flat=0\n",
    "    ST_Slope_Up=0\n",
    "    \n",
    "    if reports[0][1]=='M':\n",
    "        Sex_M=1\n",
    "    else:\n",
    "        Sex_F=1\n",
    "    \n",
    "    if reports[0][2]=='ASY':\n",
    "        ChestPainType_ASY=1\n",
    "    elif reports[0][2]=='ATA':\n",
    "        ChestPainType_ATA=1\n",
    "    elif reports[0][2]=='NAP':\n",
    "        ChestPainType_NAP=1\n",
    "    else:\n",
    "        ChestPainType_TA=1\n",
    "    \n",
    "    if reports[0][6]=='LVH':\n",
    "        RestingECG_LVH=1\n",
    "    elif reports[0][6]=='Normal':\n",
    "        RestingECG_Normal=1\n",
    "    else:\n",
    "        RestingECG_ST=1\n",
    "    \n",
    "    if reports[0][8]=='Y':\n",
    "        ExerciseAngina_Y=1\n",
    "    else:\n",
    "        ExerciseAngina_N=1\n",
    "    \n",
    "    if reports[0][10]=='Up':\n",
    "        ST_Slope_Up=1\n",
    "    elif reports[0][10]=='Down':\n",
    "        ST_Slope_Down=1\n",
    "    else:\n",
    "        ST_Slope_Flat=1\n",
    "    \n",
    "    new_reports=[[Age,RestingBP,Cholesterol,FastingBS,MaxHR,Oldpeak,Sex_F,Sex_M,ChestPainType_ASY,ChestPainType_ATA,ChestPainType_NAP,ChestPainType_TA,RestingECG_LVH,RestingECG_Normal,RestingECG_ST,ExerciseAngina_N,ExerciseAngina_Y,ST_Slope_Down,ST_Slope_Flat,ST_Slope_Up]]\n",
    "    \n",
    "    df_reports=pd.DataFrame(new_reports,columns=['A','B','C','D','E','F','G','H','I','J','K','L','M','N','O','P','Q','R','S','T'])\n",
    "    \n",
    "    demo_feature_array = np.array(df_reports)\n",
    "    \n",
    "    rf_clf_loaded = joblib.load('saved_model_rf_clf.pkl')\n",
    "    \n",
    "    demo_prediction = rf_clf_loaded.predict(demo_feature_array)\n",
    "    \n",
    "    chances_0 = round(rf_clf_loaded.predict_proba(demo_feature_array)[0][0],2)*100\n",
    "    chances_1 = round(rf_clf_loaded.predict_proba(demo_feature_array)[0][1],2)*100\n",
    "    \n",
    "    if demo_prediction[0]==0:\n",
    "        prediction=\"The patient does not have a heart disease\"\n",
    "    elif demo_prediction[0]==1:\n",
    "        prediction=\"The patient have a heart disease, and the chances are \"+str(chances_1)+\" %\"\n",
    "    return prediction"
   ]
  },
  {
   "cell_type": "code",
   "execution_count": 54,
   "id": "10e32bc7",
   "metadata": {},
   "outputs": [
    {
     "data": {
      "text/plain": [
       "'The patient have a heart disease, and the chances are 74.0 %'"
      ]
     },
     "execution_count": 54,
     "metadata": {},
     "output_type": "execute_result"
    }
   ],
   "source": [
    "# Enter the Values from the test reports of the patient:\n",
    "\n",
    "Age = 25\n",
    "Sex = 'F'\n",
    "ChestPainType = 'ASY'\n",
    "RestingBP = 120\n",
    "Cholesterol = 250\n",
    "FastingBS = 0\n",
    "RestingECG = 'Normal'\n",
    "MaxHR = 108\n",
    "ExerciseAngina = 'Y'\n",
    "Oldpeak = 1.5\n",
    "ST_Slope = 'Flat'\n",
    "\n",
    "reports = [[Age,Sex,ChestPainType,RestingBP,Cholesterol,FastingBS,RestingECG,MaxHR,ExerciseAngina,Oldpeak,ST_Slope]]\n",
    "\n",
    "prediction = predict_heart_disease(reports)\n",
    "prediction"
   ]
  },
  {
   "cell_type": "code",
   "execution_count": 1,
   "id": "d83137df",
   "metadata": {},
   "outputs": [],
   "source": []
  }
 ],
 "metadata": {
  "kernelspec": {
   "display_name": "Python 3",
   "language": "python",
   "name": "python3"
  },
  "language_info": {
   "codemirror_mode": {
    "name": "ipython",
    "version": 3
   },
   "file_extension": ".py",
   "mimetype": "text/x-python",
   "name": "python",
   "nbconvert_exporter": "python",
   "pygments_lexer": "ipython3",
   "version": "3.8.8"
  }
 },
 "nbformat": 4,
 "nbformat_minor": 5
}
